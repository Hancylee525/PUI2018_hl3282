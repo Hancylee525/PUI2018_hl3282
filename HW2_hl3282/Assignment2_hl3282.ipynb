{
 "cells": [
  {
   "cell_type": "code",
   "execution_count": 1,
   "metadata": {},
   "outputs": [],
   "source": [
    "# example of gathering, reading, and plotting data\n",
    "# developed by FBB for PUI in 2018\n",
    "# uses NYC data portal NYC OPEN DATA https://data.cityofnewyork.us/"
   ]
  },
  {
   "cell_type": "code",
   "execution_count": 2,
   "metadata": {},
   "outputs": [],
   "source": [
    "from __future__ import print_function #for compatibility beteen python2 and python3\n",
    "\n",
    "# all other needed modules will be imported as they are needed. \n",
    "# I will leave them in the cell where they become relevant BUT  \n",
    "# PEP8 standards require to move them at the top cell, \n",
    "# so you must move your imports in this cell for the homework"
   ]
  },
  {
   "cell_type": "markdown",
   "metadata": {},
   "source": [
    "# Find data on the portal"
   ]
  },
  {
   "cell_type": "markdown",
   "metadata": {},
   "source": [
    " using DHS data on shelter population\n",
    " obtained with the following steps from the website \n",
    " \n",
    " https://opendata.cityofnewyork.us/ -> Data \n",
    " \n",
    " https://opendata.cityofnewyork.us/data/ -> Department of Homeless Services (DHS) (in data by agency)\n",
    " \n",
    " https://data.cityofnewyork.us/browse?Dataset-Information_Agency=Department+of+Homeless+Services+%28DHS%29\n",
    " -> DHS daily report\n",
    " \n",
    " https://data.cityofnewyork.us/Social-Services/DHS-Daily-Report/k46n-sa2m -> View Data \n",
    " \n",
    " https://data.cityofnewyork.us/Social-Services/DHS-Daily-Report/k46n-sa2m/data -> Export\n",
    " \n",
    " this gives me various links. I copy and paste below the CSV link"
   ]
  },
  {
   "cell_type": "markdown",
   "metadata": {},
   "source": [
    "# solution 1: download from the portal \n"
   ]
  },
  {
   "cell_type": "code",
   "execution_count": 3,
   "metadata": {},
   "outputs": [
    {
     "name": "stdout",
     "output_type": "stream",
     "text": [
      "PUIdata /nfshome/hl3282/PUIdata\n"
     ]
    }
   ],
   "source": [
    "# ove the downloaded data to PUI data\n",
    "import os\n",
    "print(\"PUIdata\", os.getenv(\"PUIDATA\"))"
   ]
  },
  {
   "cell_type": "code",
   "execution_count": 4,
   "metadata": {},
   "outputs": [
    {
     "name": "stdout",
     "output_type": "stream",
     "text": [
      "PUIdata /nfshome/hl3282/PUIdata\n"
     ]
    }
   ],
   "source": [
    "#create the env variable if missing\n",
    "os.environ[\"PUIDATA\"] = \"%s/PUIdata\"%os.getenv(\"HOME\")\n",
    "\n",
    "print(\"PUIdata\", os.getenv(\"PUIDATA\"))"
   ]
  },
  {
   "cell_type": "code",
   "execution_count": 5,
   "metadata": {},
   "outputs": [
    {
     "name": "stdout",
     "output_type": "stream",
     "text": [
      "mv: cannot stat 'Water_Consumption_In_The_New_York_City.csv': No such file or directory\r\n"
     ]
    }
   ],
   "source": [
    "# move the data\n",
    "!mv Water_Consumption_In_The_New_York_City.csv $PUIDATA"
   ]
  },
  {
   "cell_type": "code",
   "execution_count": 6,
   "metadata": {},
   "outputs": [
    {
     "name": "stdout",
     "output_type": "stream",
     "text": [
      "Untitled.ipynb\tWater_Consumption_In_The_New_York_City.csv\r\n"
     ]
    }
   ],
   "source": [
    "#test if the data is there\n",
    "!ls $PUIDATA"
   ]
  },
  {
   "cell_type": "markdown",
   "metadata": {},
   "source": [
    "## read in the data with pandas"
   ]
  },
  {
   "cell_type": "code",
   "execution_count": 7,
   "metadata": {},
   "outputs": [],
   "source": [
    "#read in the data with pandas\n",
    "import pandas as pd\n",
    "WCINYC=pd.read_csv(\"%s/Water_Consumption_In_The_New_York_City.csv\"%os.getenv(\"PUIDATA\"))"
   ]
  },
  {
   "cell_type": "code",
   "execution_count": 8,
   "metadata": {},
   "outputs": [
    {
     "data": {
      "text/html": [
       "<div>\n",
       "<table border=\"1\" class=\"dataframe\">\n",
       "  <thead>\n",
       "    <tr style=\"text-align: right;\">\n",
       "      <th></th>\n",
       "      <th>Year</th>\n",
       "      <th>New York City Population</th>\n",
       "      <th>NYC Consumption(Million gallons per day)</th>\n",
       "      <th>Per Capita(Gallons per person per day)</th>\n",
       "    </tr>\n",
       "  </thead>\n",
       "  <tbody>\n",
       "    <tr>\n",
       "      <th>0</th>\n",
       "      <td>1979</td>\n",
       "      <td>7102100.0</td>\n",
       "      <td>1512.0</td>\n",
       "      <td>213</td>\n",
       "    </tr>\n",
       "    <tr>\n",
       "      <th>1</th>\n",
       "      <td>1980</td>\n",
       "      <td>7071639.0</td>\n",
       "      <td>1506.0</td>\n",
       "      <td>213</td>\n",
       "    </tr>\n",
       "    <tr>\n",
       "      <th>2</th>\n",
       "      <td>1981</td>\n",
       "      <td>7089241.0</td>\n",
       "      <td>1309.0</td>\n",
       "      <td>185</td>\n",
       "    </tr>\n",
       "    <tr>\n",
       "      <th>3</th>\n",
       "      <td>1982</td>\n",
       "      <td>7109105.0</td>\n",
       "      <td>1382.0</td>\n",
       "      <td>194</td>\n",
       "    </tr>\n",
       "    <tr>\n",
       "      <th>4</th>\n",
       "      <td>1983</td>\n",
       "      <td>7181224.0</td>\n",
       "      <td>1424.0</td>\n",
       "      <td>198</td>\n",
       "    </tr>\n",
       "    <tr>\n",
       "      <th>5</th>\n",
       "      <td>1984</td>\n",
       "      <td>7234514.0</td>\n",
       "      <td>1465.0</td>\n",
       "      <td>203</td>\n",
       "    </tr>\n",
       "    <tr>\n",
       "      <th>6</th>\n",
       "      <td>1985</td>\n",
       "      <td>7274054.0</td>\n",
       "      <td>1326.0</td>\n",
       "      <td>182</td>\n",
       "    </tr>\n",
       "    <tr>\n",
       "      <th>7</th>\n",
       "      <td>1986</td>\n",
       "      <td>7319246.0</td>\n",
       "      <td>1351.0</td>\n",
       "      <td>185</td>\n",
       "    </tr>\n",
       "  </tbody>\n",
       "</table>\n",
       "</div>"
      ],
      "text/plain": [
       "   Year  New York City Population  NYC Consumption(Million gallons per day)  \\\n",
       "0  1979                 7102100.0                                    1512.0   \n",
       "1  1980                 7071639.0                                    1506.0   \n",
       "2  1981                 7089241.0                                    1309.0   \n",
       "3  1982                 7109105.0                                    1382.0   \n",
       "4  1983                 7181224.0                                    1424.0   \n",
       "5  1984                 7234514.0                                    1465.0   \n",
       "6  1985                 7274054.0                                    1326.0   \n",
       "7  1986                 7319246.0                                    1351.0   \n",
       "\n",
       "   Per Capita(Gallons per person per day)  \n",
       "0                                     213  \n",
       "1                                     213  \n",
       "2                                     185  \n",
       "3                                     194  \n",
       "4                                     198  \n",
       "5                                     203  \n",
       "6                                     182  \n",
       "7                                     185  "
      ]
     },
     "execution_count": 8,
     "metadata": {},
     "output_type": "execute_result"
    }
   ],
   "source": [
    "#print the fist 8 lines out\n",
    "WCINYC.head(8)"
   ]
  },
  {
   "cell_type": "code",
   "execution_count": 9,
   "metadata": {},
   "outputs": [
    {
     "data": {
      "text/html": [
       "<div>\n",
       "<table border=\"1\" class=\"dataframe\">\n",
       "  <thead>\n",
       "    <tr style=\"text-align: right;\">\n",
       "      <th></th>\n",
       "      <th>Year</th>\n",
       "      <th>New York City Population</th>\n",
       "      <th>NYC Consumption(Million gallons per day)</th>\n",
       "      <th>Per Capita(Gallons per person per day)</th>\n",
       "    </tr>\n",
       "  </thead>\n",
       "  <tbody>\n",
       "    <tr>\n",
       "      <th>36</th>\n",
       "      <td>2015</td>\n",
       "      <td>8516502.0</td>\n",
       "      <td>1009.0</td>\n",
       "      <td>118</td>\n",
       "    </tr>\n",
       "    <tr>\n",
       "      <th>37</th>\n",
       "      <td>2016</td>\n",
       "      <td>8537673.0</td>\n",
       "      <td>1002.0</td>\n",
       "      <td>117</td>\n",
       "    </tr>\n",
       "    <tr>\n",
       "      <th>38</th>\n",
       "      <td>2017</td>\n",
       "      <td>8622698.0</td>\n",
       "      <td>990.2</td>\n",
       "      <td>115</td>\n",
       "    </tr>\n",
       "  </tbody>\n",
       "</table>\n",
       "</div>"
      ],
      "text/plain": [
       "    Year  New York City Population  NYC Consumption(Million gallons per day)  \\\n",
       "36  2015                 8516502.0                                    1009.0   \n",
       "37  2016                 8537673.0                                    1002.0   \n",
       "38  2017                 8622698.0                                     990.2   \n",
       "\n",
       "    Per Capita(Gallons per person per day)  \n",
       "36                                     118  \n",
       "37                                     117  \n",
       "38                                     115  "
      ]
     },
     "execution_count": 9,
     "metadata": {},
     "output_type": "execute_result"
    }
   ],
   "source": [
    "#print the last 3 lines out\n",
    "WCINYC.tail(3)"
   ]
  },
  {
   "cell_type": "code",
   "execution_count": 10,
   "metadata": {},
   "outputs": [
    {
     "data": {
      "text/plain": [
       "Index(['Year', 'New York City Population',\n",
       "       'NYC Consumption(Million gallons per day)',\n",
       "       'Per Capita(Gallons per person per day)'],\n",
       "      dtype='object')"
      ]
     },
     "execution_count": 10,
     "metadata": {},
     "output_type": "execute_result"
    }
   ],
   "source": [
    "#look at the columns available, those are the variables\n",
    "WCINYC.columns"
   ]
  },
  {
   "cell_type": "code",
   "execution_count": 11,
   "metadata": {},
   "outputs": [
    {
     "data": {
      "text/plain": [
       "156"
      ]
     },
     "execution_count": 11,
     "metadata": {},
     "output_type": "execute_result"
    }
   ],
   "source": [
    "#count how many rows, those are the data points\n",
    "WCINYC.size"
   ]
  },
  {
   "cell_type": "code",
   "execution_count": 12,
   "metadata": {},
   "outputs": [],
   "source": [
    "#select 2 columns only for plotting\n",
    "WCINYC_2c=WCINYC[['New York City Population', 'NYC Consumption(Million gallons per day)']]"
   ]
  },
  {
   "cell_type": "code",
   "execution_count": 13,
   "metadata": {},
   "outputs": [
    {
     "data": {
      "text/html": [
       "<div>\n",
       "<table border=\"1\" class=\"dataframe\">\n",
       "  <thead>\n",
       "    <tr style=\"text-align: right;\">\n",
       "      <th></th>\n",
       "      <th>New York City Population</th>\n",
       "      <th>NYC Consumption(Million gallons per day)</th>\n",
       "    </tr>\n",
       "  </thead>\n",
       "  <tbody>\n",
       "    <tr>\n",
       "      <th>0</th>\n",
       "      <td>7102100.0</td>\n",
       "      <td>1512.0</td>\n",
       "    </tr>\n",
       "    <tr>\n",
       "      <th>1</th>\n",
       "      <td>7071639.0</td>\n",
       "      <td>1506.0</td>\n",
       "    </tr>\n",
       "    <tr>\n",
       "      <th>2</th>\n",
       "      <td>7089241.0</td>\n",
       "      <td>1309.0</td>\n",
       "    </tr>\n",
       "    <tr>\n",
       "      <th>3</th>\n",
       "      <td>7109105.0</td>\n",
       "      <td>1382.0</td>\n",
       "    </tr>\n",
       "    <tr>\n",
       "      <th>4</th>\n",
       "      <td>7181224.0</td>\n",
       "      <td>1424.0</td>\n",
       "    </tr>\n",
       "  </tbody>\n",
       "</table>\n",
       "</div>"
      ],
      "text/plain": [
       "   New York City Population  NYC Consumption(Million gallons per day)\n",
       "0                 7102100.0                                    1512.0\n",
       "1                 7071639.0                                    1506.0\n",
       "2                 7089241.0                                    1309.0\n",
       "3                 7109105.0                                    1382.0\n",
       "4                 7181224.0                                    1424.0"
      ]
     },
     "execution_count": 13,
     "metadata": {},
     "output_type": "execute_result"
    }
   ],
   "source": [
    "WCINYC_2c.head()"
   ]
  },
  {
   "cell_type": "markdown",
   "metadata": {},
   "source": [
    "## plot the data"
   ]
  },
  {
   "cell_type": "code",
   "execution_count": 14,
   "metadata": {},
   "outputs": [
    {
     "data": {
      "text/plain": [
       "<function matplotlib.pyplot.show>"
      ]
     },
     "execution_count": 14,
     "metadata": {},
     "output_type": "execute_result"
    }
   ],
   "source": [
    "import matplotlib.pyplot as plt\n",
    "import numpy as np\n",
    "WCINYC_2c.plot(x=\"New York City Population\", y=\"NYC Consumption(Million gallons per day)\")\n",
    "plt.show"
   ]
  },
  {
   "cell_type": "code",
   "execution_count": 15,
   "metadata": {},
   "outputs": [],
   "source": [
    "# wont show anything if i do not use the magic command to show plots in the notebook \n",
    "#(or use pl.show to pop up a window, but for the homework plots have to be embedded)"
   ]
  },
  {
   "cell_type": "code",
   "execution_count": 16,
   "metadata": {},
   "outputs": [
    {
     "name": "stdout",
     "output_type": "stream",
     "text": [
      "Populating the interactive namespace from numpy and matplotlib\n"
     ]
    }
   ],
   "source": [
    "%pylab inline"
   ]
  },
  {
   "cell_type": "code",
   "execution_count": 17,
   "metadata": {},
   "outputs": [
    {
     "data": {
      "text/plain": [
       "Text(0,0.5,'NYC water Consumption')"
      ]
     },
     "execution_count": 17,
     "metadata": {},
     "output_type": "execute_result"
    },
    {
     "data": {
      "image/png": "[encoded data removed]",
      "text/plain": [
       "<matplotlib.figure.Figure at 0x7f66642c0cc0>"
      ]
     },
     "metadata": {},
     "output_type": "display_data"
    }
   ],
   "source": [
    "WCINYC_2c.plot(x=\"New York City Population\", y=\"NYC Consumption(Million gallons per day)\", kind='scatter', rot=30);\n",
    "plt.ylabel(\"NYC water Consumption\")\n",
    "# every plot needs a caption that explains to the reader \n",
    "# 1) WHAT what the reader is loooking at and \n",
    "# 2) WHY why the reader is looking at it here in the analysis \n",
    "#      (in this case there is no why cause this plot is not part of an analysis)\n",
    "# 3) TAKE HOME what is the take home point for the plot in the analysis \n",
    "#      (also there is no take home point here cause we are not doind an analysis but you can point out interesting features)"
   ]
  },
  {
   "cell_type": "markdown",
   "metadata": {},
   "source": [
    "Figure 1: \n",
    "number of NYC water consumption against New York City Population as reported by the New York City Water Supply System between 1979 and 2017. The two variables display a negative correlation. It's interesting that with the increase of population, water consumption decreases. I think it is probably because of awareness of environmentak protection strenghthening."
   ]
  },
  {
   "cell_type": "markdown",
   "metadata": {},
   "source": [
    "# solution 2: Use API and download a json file"
   ]
  },
  {
   "cell_type": "markdown",
   "metadata": {},
   "source": [
    "from the dataset export link now go to -> SODA API and the the endpoint"
   ]
  },
  {
   "cell_type": "code",
   "execution_count": 18,
   "metadata": {},
   "outputs": [],
   "source": [
    "url = \"https://data.cityofnewyork.us/resource/waf7-5gvc.json\""
   ]
  },
  {
   "cell_type": "code",
   "execution_count": 19,
   "metadata": {},
   "outputs": [],
   "source": [
    "#use the appropriatepandas function to read in the json file\n",
    "df = pd.read_json(url)"
   ]
  },
  {
   "cell_type": "code",
   "execution_count": 20,
   "metadata": {},
   "outputs": [
    {
     "data": {
      "text/html": [
       "<div>\n",
       "<table border=\"1\" class=\"dataframe\">\n",
       "  <thead>\n",
       "    <tr style=\"text-align: right;\">\n",
       "      <th></th>\n",
       "      <th>new_york_city_population</th>\n",
       "      <th>nyc_consumption_million_gallons_per_day</th>\n",
       "      <th>per_capita_gallons_per_person_per_day</th>\n",
       "      <th>year</th>\n",
       "    </tr>\n",
       "  </thead>\n",
       "  <tbody>\n",
       "    <tr>\n",
       "      <th>0</th>\n",
       "      <td>7102100.0</td>\n",
       "      <td>1512.0</td>\n",
       "      <td>213</td>\n",
       "      <td>1979</td>\n",
       "    </tr>\n",
       "    <tr>\n",
       "      <th>1</th>\n",
       "      <td>7071639.0</td>\n",
       "      <td>1506.0</td>\n",
       "      <td>213</td>\n",
       "      <td>1980</td>\n",
       "    </tr>\n",
       "    <tr>\n",
       "      <th>2</th>\n",
       "      <td>7089241.0</td>\n",
       "      <td>1309.0</td>\n",
       "      <td>185</td>\n",
       "      <td>1981</td>\n",
       "    </tr>\n",
       "    <tr>\n",
       "      <th>3</th>\n",
       "      <td>7109105.0</td>\n",
       "      <td>1382.0</td>\n",
       "      <td>194</td>\n",
       "      <td>1982</td>\n",
       "    </tr>\n",
       "  </tbody>\n",
       "</table>\n",
       "</div>"
      ],
      "text/plain": [
       "   new_york_city_population  nyc_consumption_million_gallons_per_day  \\\n",
       "0                 7102100.0                                   1512.0   \n",
       "1                 7071639.0                                   1506.0   \n",
       "2                 7089241.0                                   1309.0   \n",
       "3                 7109105.0                                   1382.0   \n",
       "\n",
       "   per_capita_gallons_per_person_per_day  year  \n",
       "0                                    213  1979  \n",
       "1                                    213  1980  \n",
       "2                                    185  1981  \n",
       "3                                    194  1982  "
      ]
     },
     "execution_count": 20,
     "metadata": {},
     "output_type": "execute_result"
    }
   ],
   "source": [
    "# print it out\n",
    "df.head(4)"
   ]
  },
  {
   "cell_type": "code",
   "execution_count": 21,
   "metadata": {},
   "outputs": [
    {
     "data": {
      "text/html": [
       "<div>\n",
       "<table border=\"1\" class=\"dataframe\">\n",
       "  <thead>\n",
       "    <tr style=\"text-align: right;\">\n",
       "      <th></th>\n",
       "      <th>new_york_city_population</th>\n",
       "      <th>nyc_consumption_million_gallons_per_day</th>\n",
       "      <th>per_capita_gallons_per_person_per_day</th>\n",
       "      <th>year</th>\n",
       "    </tr>\n",
       "  </thead>\n",
       "  <tbody>\n",
       "    <tr>\n",
       "      <th>34</th>\n",
       "      <td>7633040.0</td>\n",
       "      <td>1325.7</td>\n",
       "      <td>174</td>\n",
       "      <td>1995</td>\n",
       "    </tr>\n",
       "    <tr>\n",
       "      <th>35</th>\n",
       "      <td>8622698.0</td>\n",
       "      <td>990.2</td>\n",
       "      <td>115</td>\n",
       "      <td>2017</td>\n",
       "    </tr>\n",
       "    <tr>\n",
       "      <th>36</th>\n",
       "      <td>7506166.0</td>\n",
       "      <td>1368.5</td>\n",
       "      <td>182</td>\n",
       "      <td>1993</td>\n",
       "    </tr>\n",
       "    <tr>\n",
       "      <th>37</th>\n",
       "      <td>8041649.0</td>\n",
       "      <td>1135.6</td>\n",
       "      <td>141</td>\n",
       "      <td>2002</td>\n",
       "    </tr>\n",
       "    <tr>\n",
       "      <th>38</th>\n",
       "      <td>7570458.0</td>\n",
       "      <td>1357.7</td>\n",
       "      <td>179</td>\n",
       "      <td>1994</td>\n",
       "    </tr>\n",
       "  </tbody>\n",
       "</table>\n",
       "</div>"
      ],
      "text/plain": [
       "    new_york_city_population  nyc_consumption_million_gallons_per_day  \\\n",
       "34                 7633040.0                                   1325.7   \n",
       "35                 8622698.0                                    990.2   \n",
       "36                 7506166.0                                   1368.5   \n",
       "37                 8041649.0                                   1135.6   \n",
       "38                 7570458.0                                   1357.7   \n",
       "\n",
       "    per_capita_gallons_per_person_per_day  year  \n",
       "34                                    174  1995  \n",
       "35                                    115  2017  \n",
       "36                                    182  1993  \n",
       "37                                    141  2002  \n",
       "38                                    179  1994  "
      ]
     },
     "execution_count": 21,
     "metadata": {},
     "output_type": "execute_result"
    }
   ],
   "source": [
    "df.tail(5)"
   ]
  },
  {
   "cell_type": "code",
   "execution_count": 22,
   "metadata": {},
   "outputs": [],
   "source": [
    "#now select a date and 2 variables\n",
    "dhs_3c= df[['year',\n",
    "            'new_york_city_population',\n",
    "            'nyc_consumption_million_gallons_per_day']]"
   ]
  },
  {
   "cell_type": "markdown",
   "metadata": {},
   "source": [
    "for consistency with the data above, I will change the names of the columns (variables) to be the same as before. This way the plots will come out with the same labels and legends"
   ]
  },
  {
   "cell_type": "code",
   "execution_count": 23,
   "metadata": {},
   "outputs": [
    {
     "name": "stderr",
     "output_type": "stream",
     "text": [
      "/usr/local/Anaconda3-5.0.0-Linux-x86_64/envs/PUI2016_Python3/lib/python3.5/site-packages/pandas/core/frame.py:2754: SettingWithCopyWarning: \n",
      "A value is trying to be set on a copy of a slice from a DataFrame\n",
      "\n",
      "See the caveats in the documentation: http://pandas.pydata.org/pandas-docs/stable/indexing.html#indexing-view-versus-copy\n",
      "  **kwargs)\n"
     ]
    }
   ],
   "source": [
    "dhs_3c.rename(columns = {'year':'Year',\n",
    "                         'new_york_city_population':'New York City Population',\n",
    "                         'nyc_consumption_million_gallons_per_day':'NYC Consumption(Million gallons per day)'}, inplace=True)"
   ]
  },
  {
   "cell_type": "code",
   "execution_count": 24,
   "metadata": {},
   "outputs": [
    {
     "data": {
      "text/plain": [
       "Text(0,0.5,'NYC population')"
      ]
     },
     "execution_count": 24,
     "metadata": {},
     "output_type": "execute_result"
    },
    {
     "data": {
      "image/png": "[encoded data removed]",
      "text/plain": [
       "<matplotlib.figure.Figure at 0x7f66642c34a8>"
      ]
     },
     "metadata": {},
     "output_type": "display_data"
    }
   ],
   "source": [
    "#as a default this plot wont have a y label, but all plots must have axis labels!\n",
    "ax = dhs_3c.plot(x='Year', y='New York City Population', xlim=(1979,2017),kind='scatter')\n",
    "ax.set_ylabel(\"NYC population\")"
   ]
  },
  {
   "cell_type": "markdown",
   "metadata": {},
   "source": [
    "Figure 2: number of New York City Population as a function of time between 1979 and 2017. The number peaks in 2017. there is a positive(increasing)trend. It is obvious that population will increase as time goes."
   ]
  },
  {
   "cell_type": "code",
   "execution_count": 25,
   "metadata": {
    "scrolled": false
   },
   "outputs": [
    {
     "data": {
      "text/plain": [
       "Text(0,0.5,'NYC water Consumption')"
      ]
     },
     "execution_count": 25,
     "metadata": {},
     "output_type": "execute_result"
    },
    {
     "data": {
      "image/png": "[encoded data removed]",
      "text/plain": [
       "<matplotlib.figure.Figure at 0x7f6664297cf8>"
      ]
     },
     "metadata": {},
     "output_type": "display_data"
    }
   ],
   "source": [
    "#plot the other columns\n",
    "ax = dhs_3c.plot(x='Year', y='NYC Consumption(Million gallons per day)',kind='scatter')\n",
    "ax.set_ylabel(\"NYC water Consumption\")"
   ]
  },
  {
   "cell_type": "markdown",
   "metadata": {},
   "source": [
    "Figure 3: number of NYC water consumption against New York City Population as reported by the New York City Water Supply System between 1979 and 2017. Unlike the number of New York City Population, there is a decreasing trend in the NYC water consumption as time goes. Although during several years it increases, in general the trend is decreasing. It indictaes that the number of water resources decreases and people's awareness of environmental protection is strenghthening."
   ]
  }
 ],
 "metadata": {
  "kernelspec": {
   "display_name": "PUI2016_Python3",
   "language": "python",
   "name": "pui2016_python3"
  },
  "language_info": {
   "codemirror_mode": {
    "name": "ipython",
    "version": 3
   },
   "file_extension": ".py",
   "mimetype": "text/x-python",
   "name": "python",
   "nbconvert_exporter": "python",
   "pygments_lexer": "ipython3",
   "version": "3.5.4"
  }
 },
 "nbformat": 4,
 "nbformat_minor": 2
}
