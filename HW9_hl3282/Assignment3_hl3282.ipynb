{
 "cells": [
  {
   "cell_type": "markdown",
   "metadata": {
    "run_control": {
     "frozen": false,
     "read_only": false
    },
    "toc": "true"
   },
   "source": [
    "# Table of Contents\n",
    " <p><div class=\"lev1 toc-item\"><a href=\"#DATA:\" data-toc-modified-id=\"DATA:-1\"><span class=\"toc-item-num\">1&nbsp;&nbsp;</span>DATA:</a></div><div class=\"lev1 toc-item\"><a href=\"#exploration\" data-toc-modified-id=\"exploration-2\"><span class=\"toc-item-num\">2&nbsp;&nbsp;</span>exploration</a></div><div class=\"lev2 toc-item\"><a href=\"#plot-mass-shooting-vs-gdp-in-absolute-numbers,-and-per-person.-Show-the-errorbars-(y-errors)\" data-toc-modified-id=\"plot-mass-shooting-vs-gdp-in-absolute-numbers,-and-per-person.-Show-the-errorbars-(y-errors)-21\"><span class=\"toc-item-num\">2.1&nbsp;&nbsp;</span>plot mass shooting vs gdp in absolute numbers, and per person. Show the errorbars (y errors)</a></div><div class=\"lev2 toc-item\"><a href=\"#plot-the-average-number-of-civilian-fire-arms-per-person\" data-toc-modified-id=\"plot-the-average-number-of-civilian-fire-arms-per-person-22\"><span class=\"toc-item-num\">2.2&nbsp;&nbsp;</span>plot the average number of civilian fire arms per person</a></div><div class=\"lev2 toc-item\"><a href=\"#plot-the-average-number-of-homicide-by-fire-arms-per-person\" data-toc-modified-id=\"plot-the-average-number-of-homicide-by-fire-arms-per-person-23\"><span class=\"toc-item-num\">2.3&nbsp;&nbsp;</span>plot the average number of homicide by fire arms per person</a></div><div class=\"lev2 toc-item\"><a href=\"#plot-the-number-of--homicides-by-fire-arm-against-the-number-of-civilian-firearms.-plot-the--US-in-a-different-color\" data-toc-modified-id=\"plot-the-number-of--homicides-by-fire-arm-against-the-number-of-civilian-firearms.-plot-the--US-in-a-different-color-24\"><span class=\"toc-item-num\">2.4&nbsp;&nbsp;</span>plot the number of  homicides by fire arm against the number of civilian firearms. plot the  US in a different color</a></div><div class=\"lev2 toc-item\"><a href=\"#plot-the-number-of--mass-shootings-against-the-number-of-civilian-firearms.-plot-the--US-in-a-different-color\" data-toc-modified-id=\"plot-the-number-of--mass-shootings-against-the-number-of-civilian-firearms.-plot-the--US-in-a-different-color-25\"><span class=\"toc-item-num\">2.5&nbsp;&nbsp;</span>plot the number of  mass shootings against the number of civilian firearms. plot the  US in a different color</a></div><div class=\"lev1 toc-item\"><a href=\"#Modeling\" data-toc-modified-id=\"Modeling-3\"><span class=\"toc-item-num\">3&nbsp;&nbsp;</span>Modeling</a></div><div class=\"lev2 toc-item\"><a href=\"#fit-a-line-to-the-Number-of-mass-shootings--per-person-as-a-function-of-Average-total-all-civilian-firearms-per-person.\" data-toc-modified-id=\"fit-a-line-to-the-Number-of-mass-shootings--per-person-as-a-function-of-Average-total-all-civilian-firearms-per-person.-31\"><span class=\"toc-item-num\">3.1&nbsp;&nbsp;</span>fit a line to the Number of mass shootings  per person as a function of Average total all civilian firearms per person.</a></div><div class=\"lev2 toc-item\"><a href=\"#Outlier-removal:\" data-toc-modified-id=\"Outlier-removal:-32\"><span class=\"toc-item-num\">3.2&nbsp;&nbsp;</span>Outlier removal:</a></div><div class=\"lev2 toc-item\"><a href=\"#Extra-credit:-calculate-the-confidence-interval-by-hand-and-also-plot-them\" data-toc-modified-id=\"Extra-credit:-calculate-the-confidence-interval-by-hand-and-also-plot-them-33\"><span class=\"toc-item-num\">3.3&nbsp;&nbsp;</span>Extra credit: calculate the confidence interval by hand and also plot them</a></div><div class=\"lev2 toc-item\"><a href=\"#Use-the-stsatsmodels.gaphics-package-to-plot-the-influence-plot.\" data-toc-modified-id=\"Use-the-stsatsmodels.gaphics-package-to-plot-the-influence-plot.-34\"><span class=\"toc-item-num\">3.4&nbsp;&nbsp;</span>Use the stsatsmodels.gaphics package to plot the influence plot.</a></div><div class=\"lev2 toc-item\"><a href=\"#Extra-credit:-calculate-from-scratch-the-stanrdardized-residuals-and-the-H-leverage-for-the-WLS-model-and-discuss-if-there-are-any-differences\" data-toc-modified-id=\"Extra-credit:-calculate-from-scratch-the-stanrdardized-residuals-and-the-H-leverage-for-the-WLS-model-and-discuss-if-there-are-any-differences-35\"><span class=\"toc-item-num\">3.5&nbsp;&nbsp;</span>Extra credit: calculate from scratch the stanrdardized residuals and the H leverage for the WLS model and discuss if there are any differences</a></div><div class=\"lev2 toc-item\"><a href=\"#Discuss-your-findings\" data-toc-modified-id=\"Discuss-your-findings-36\"><span class=\"toc-item-num\">3.6&nbsp;&nbsp;</span>Discuss your findings</a></div>"
   ]
  },
  {
   "cell_type": "markdown",
   "metadata": {
    "run_control": {
     "frozen": false,
     "read_only": false
    }
   },
   "source": [
    "**regression exercise**\n",
    "\n",
    "**written by Federica B Bianco CUSP 2017**\n",
    "\n",
    "**for PUI lecture on models and linear regression**"
   ]
  },
  {
   "cell_type": "markdown",
   "metadata": {
    "run_control": {
     "frozen": false,
     "read_only": false
    }
   },
   "source": [
    "**investigate linear relationships between fire arm possession, homicides by fire arms, and mass shootings for different countries, considering also the country GDP**"
   ]
  },
  {
   "cell_type": "code",
   "execution_count": 1,
   "metadata": {},
   "outputs": [
    {
     "name": "stdout",
     "output_type": "stream",
     "text": [
      "Populating the interactive namespace from numpy and matplotlib\n"
     ]
    },
    {
     "name": "stderr",
     "output_type": "stream",
     "text": [
      "/usr/local/Anaconda3-5.0.0-Linux-x86_64/envs/PUI2016_Python3/lib/python3.5/site-packages/IPython/html.py:14: ShimWarning: The `IPython.html` package has been deprecated. You should import from `notebook` instead. `IPython.html.widgets` has moved to `ipywidgets`.\n",
      "  \"`IPython.html.widgets` has moved to `ipywidgets`.\", ShimWarning)\n"
     ]
    }
   ],
   "source": [
    "import urllib\n",
    "import requests\n",
    "import pandas as pd\n",
    "import os\n",
    "import pylab as pl\n",
    "import numpy as np\n",
    "import statsmodels.api as sm\n",
    "import statsmodels.formula.api as smf\n",
    "import seaborn as sns\n",
    "import scipy as sp\n",
    "%pylab inline"
   ]
  },
  {
   "cell_type": "markdown",
   "metadata": {
    "run_control": {
     "frozen": false,
     "read_only": false
    }
   },
   "source": [
    "# DATA: \n",
    "\n",
    "The Guardian firearms murders and ownership data. The relevans sheet is uploaded in the github repository as a csv file. Download it from there. Note: this dataset is from 2012.\n",
    "\n",
    "**Extra credit**: download directly from google docs with a google API\n",
    "\n",
    "https://docs.google.com/spreadsheets/d/1chqUZHuY6cXYrRYkuE0uwXisGaYvr7durZHJhpLGycs/edit#gid=0\n",
    "\n",
    "Number of mass shootings: find the link here https://datawrapper.dwcdn.net/pvLFI/4/\n",
    "\n",
    "The world population by country find the download link here :\n",
    "https://data.worldbank.org/indicator/SP.POP.TOTL\n",
    "\n",
    "Remember that all read or downloads have to me reproducible.\n",
    "\n",
    "Merge all datasets. After throwing away the irrelevant data it should look something like this (I renamed the GDP and the population as gdp\" and \"pop\")\n",
    "\n",
    "Throughout, when I ask you to include errors in plots or models, use Poisson statistics: the error is the square root of the number you are considering (e.g. this country has N fire arms +/- square root of N, or this country has Np [= N/population +/- (square root of N) / population] fire arms per person)."
   ]
  },
  {
   "cell_type": "code",
   "execution_count": 2,
   "metadata": {},
   "outputs": [
    {
     "data": {
      "text/plain": [
       "'\\nimport csv\\nimport gspread\\nfrom oauth2client.service_account import ServiceAccountCredentials\\nscope = [\\'https://spreadsheets.google.com/spreadsheets/d\\']\\ncredentials = ServiceAccountCredentials.from_json_keyfile_name(\\'credentials.json\\', scope)\\n\\ndocid = \"/1chqUZHuY6cXYrRYkuE0uwXisGaYvr7durZHJhpLGycs\"\\n\\nclient = gspread.authorize(credentials)\\nspreadsheet = client.open_by_key(docid)\\nfor i, worksheet in enumerate(spreadsheet.worksheets()):\\n    filename = docid + \\'-worksheet\\' + str(i) + \\'.csv\\'\\n    with open(filename, \\'wb\\') as f:\\n        writer = csv.writer(f)\\n        writer.writerows(worksheet.get_all_values())\\n        \\n'"
      ]
     },
     "execution_count": 2,
     "metadata": {},
     "output_type": "execute_result"
    }
   ],
   "source": [
    "## try to do the extra credit:download directly from google docs with a google API but error\n",
    "'''\n",
    "import csv\n",
    "import gspread\n",
    "from oauth2client.service_account import ServiceAccountCredentials\n",
    "scope = ['https://spreadsheets.google.com/spreadsheets/d']\n",
    "credentials = ServiceAccountCredentials.from_json_keyfile_name('credentials.json', scope)\n",
    "\n",
    "docid = \"/1chqUZHuY6cXYrRYkuE0uwXisGaYvr7durZHJhpLGycs\"\n",
    "\n",
    "client = gspread.authorize(credentials)\n",
    "spreadsheet = client.open_by_key(docid)\n",
    "for i, worksheet in enumerate(spreadsheet.worksheets()):\n",
    "    filename = docid + '-worksheet' + str(i) + '.csv'\n",
    "    with open(filename, 'wb') as f:\n",
    "        writer = csv.writer(f)\n",
    "        writer.writerows(worksheet.get_all_values())\n",
    "        \n",
    "'''"
   ]
  },
  {
   "cell_type": "code",
   "execution_count": 3,
   "metadata": {},
   "outputs": [
    {
     "data": {
      "text/plain": [
       "'\\nfile_id = \\'1chqUZHuY6cXYrRYkuE0uwXisGaYvr7durZHJhpLGycs\\'\\nrequest = drive_service.files().export_media(fileId=file_id,\\n                                             mimeType=\\'application/pdf\\')\\nfh = io.BytesIO()\\ndownloader = MediaIoBaseDownload(fh, request)\\ndone = False\\nwhile done is False:\\n    status, done = downloader.next_chunk()\\n    print \"Download %d%%.\" % int(status.progress() * 100)\\n'"
      ]
     },
     "execution_count": 3,
     "metadata": {},
     "output_type": "execute_result"
    }
   ],
   "source": [
    "## try to do the extra credit:download directly from google docs with a google API but error\n",
    "## Extra credit: download directly from google docs with a google API\n",
    "'''\n",
    "file_id = '1chqUZHuY6cXYrRYkuE0uwXisGaYvr7durZHJhpLGycs'\n",
    "request = drive_service.files().export_media(fileId=file_id,\n",
    "                                             mimeType='application/pdf')\n",
    "fh = io.BytesIO()\n",
    "downloader = MediaIoBaseDownload(fh, request)\n",
    "done = False\n",
    "while done is False:\n",
    "    status, done = downloader.next_chunk()\n",
    "    print \"Download %d%%.\" % int(status.progress() * 100)\n",
    "'''"
   ]
  },
  {
   "cell_type": "code",
   "execution_count": 4,
   "metadata": {},
   "outputs": [],
   "source": [
    "# dowload mass shooting data and move it to PUIdata\n",
    "url = \"data:application/octet-stream;charset=utf-8,Country%2CGuns%20per%20100%20inhabitants%2CNumber%20of%20mass%20shootings%20(1983-2013)%0AAustralia%2C15%2C4%0AAustria%2C30.4%2C1%0ABelgium%2C17.2%2C2%0ACanada%2C30.8%2C4%0ADenmark%2C12%2C0%0AFinland%2C45.3%2C2%0AFrance%2C31.2%2C6%0AGermany%2C30.3%2C7%0AGreece%2C22.5%2C0%0AHolland%2C3.9%2C2%0AHungary%2C5.5%2C0%0AIceland%2C30.3%2C0%0AIreland%2C8.6%2C0%0AItaly%2C11.9%2C0%0AJapan%2C0.6%2C0%0ALuxembourg%2C15.3%2C0%0ANew%20Zealand%2C22.6%2C3%0ANorway%2C31.3%2C1%0APoland%2C1.3%2C0%0APortugal%2C8.5%2C1%0ASpain%2C10.4%2C1%0ASweden%2C31.6%2C2%0ASwitzerland%2C45.7%2C2%0AUnited%20Kingdom%2C6.2%2C3%0AUnited%20States%2C88.8%2C78\"\n",
    "urllib.request.urlretrieve(url, \"mass_shooting.csv\")\n",
    "!mv mass_shooting.csv $PUIDATA"
   ]
  },
  {
   "cell_type": "code",
   "execution_count": 5,
   "metadata": {},
   "outputs": [],
   "source": [
    "# read mass shooting data\n",
    "mass_shooting = pd.read_csv(os.getenv(\"PUIDATA\") + \"/mass_shooting.csv\")"
   ]
  },
  {
   "cell_type": "code",
   "execution_count": 6,
   "metadata": {},
   "outputs": [
    {
     "data": {
      "text/html": [
       "<div>\n",
       "<table border=\"1\" class=\"dataframe\">\n",
       "  <thead>\n",
       "    <tr style=\"text-align: right;\">\n",
       "      <th></th>\n",
       "      <th>Country</th>\n",
       "      <th>Guns per 100 inhabitants</th>\n",
       "      <th>Number of mass shootings (1983-2013)</th>\n",
       "    </tr>\n",
       "  </thead>\n",
       "  <tbody>\n",
       "    <tr>\n",
       "      <th>0</th>\n",
       "      <td>Australia</td>\n",
       "      <td>15.0</td>\n",
       "      <td>4</td>\n",
       "    </tr>\n",
       "    <tr>\n",
       "      <th>1</th>\n",
       "      <td>Austria</td>\n",
       "      <td>30.4</td>\n",
       "      <td>1</td>\n",
       "    </tr>\n",
       "    <tr>\n",
       "      <th>2</th>\n",
       "      <td>Belgium</td>\n",
       "      <td>17.2</td>\n",
       "      <td>2</td>\n",
       "    </tr>\n",
       "    <tr>\n",
       "      <th>3</th>\n",
       "      <td>Canada</td>\n",
       "      <td>30.8</td>\n",
       "      <td>4</td>\n",
       "    </tr>\n",
       "    <tr>\n",
       "      <th>4</th>\n",
       "      <td>Denmark</td>\n",
       "      <td>12.0</td>\n",
       "      <td>0</td>\n",
       "    </tr>\n",
       "  </tbody>\n",
       "</table>\n",
       "</div>"
      ],
      "text/plain": [
       "     Country  Guns per 100 inhabitants  Number of mass shootings (1983-2013)\n",
       "0  Australia                      15.0                                     4\n",
       "1    Austria                      30.4                                     1\n",
       "2    Belgium                      17.2                                     2\n",
       "3     Canada                      30.8                                     4\n",
       "4    Denmark                      12.0                                     0"
      ]
     },
     "execution_count": 6,
     "metadata": {},
     "output_type": "execute_result"
    }
   ],
   "source": [
    "mass_shooting.dropna(axis=0, inplace=True)\n",
    "mass_shooting.head()"
   ]
  },
  {
   "cell_type": "code",
   "execution_count": 7,
   "metadata": {},
   "outputs": [
    {
     "name": "stdout",
     "output_type": "stream",
     "text": [
      "Archive:  world_population.zip\r\n",
      "  inflating: /nfshome/hl3282/PUIdata/Metadata_Indicator_API_SP.POP.TOTL_DS2_en_csv_v2_10224786.csv  \r\n",
      "  inflating: /nfshome/hl3282/PUIdata/API_SP.POP.TOTL_DS2_en_csv_v2_10224786.csv  \r\n",
      "  inflating: /nfshome/hl3282/PUIdata/Metadata_Country_API_SP.POP.TOTL_DS2_en_csv_v2_10224786.csv  \r\n"
     ]
    }
   ],
   "source": [
    "# download population data\n",
    "url = \"http://api.worldbank.org/v2/en/indicator/SP.POP.TOTL?downloadformat=csv\"\n",
    "urllib.request.urlretrieve(url, \"world_population.zip\")\n",
    "!unzip world_population.zip -d $PUIDATA"
   ]
  },
  {
   "cell_type": "code",
   "execution_count": 8,
   "metadata": {},
   "outputs": [
    {
     "data": {
      "text/html": [
       "<div>\n",
       "<table border=\"1\" class=\"dataframe\">\n",
       "  <thead>\n",
       "    <tr style=\"text-align: right;\">\n",
       "      <th></th>\n",
       "      <th>population</th>\n",
       "      <th>Country Name</th>\n",
       "    </tr>\n",
       "  </thead>\n",
       "  <tbody>\n",
       "    <tr>\n",
       "      <th>0</th>\n",
       "      <td>102577.0</td>\n",
       "      <td>Aruba</td>\n",
       "    </tr>\n",
       "    <tr>\n",
       "      <th>1</th>\n",
       "      <td>30696958.0</td>\n",
       "      <td>Afghanistan</td>\n",
       "    </tr>\n",
       "    <tr>\n",
       "      <th>2</th>\n",
       "      <td>25096150.0</td>\n",
       "      <td>Angola</td>\n",
       "    </tr>\n",
       "    <tr>\n",
       "      <th>3</th>\n",
       "      <td>2900401.0</td>\n",
       "      <td>Albania</td>\n",
       "    </tr>\n",
       "    <tr>\n",
       "      <th>4</th>\n",
       "      <td>82431.0</td>\n",
       "      <td>Andorra</td>\n",
       "    </tr>\n",
       "  </tbody>\n",
       "</table>\n",
       "</div>"
      ],
      "text/plain": [
       "   population Country Name\n",
       "0    102577.0        Aruba\n",
       "1  30696958.0  Afghanistan\n",
       "2  25096150.0       Angola\n",
       "3   2900401.0      Albania\n",
       "4     82431.0      Andorra"
      ]
     },
     "execution_count": 8,
     "metadata": {},
     "output_type": "execute_result"
    }
   ],
   "source": [
    "#read population data\n",
    "df_ = pd.read_csv(os.getenv(\"PUIDATA\") + \"/API_SP.POP.TOTL_DS2_en_csv_v2_10224786.csv\", skiprows=1, header=1)\n",
    "df_ = df_[['2012','Country Name']]\n",
    "df_.rename(columns={'2012':'population'}, inplace=True)\n",
    "df_.dropna(axis=0, inplace=True)\n",
    "df_.head()"
   ]
  },
  {
   "cell_type": "code",
   "execution_count": 9,
   "metadata": {},
   "outputs": [
    {
     "name": "stdout",
     "output_type": "stream",
     "text": [
      "--2018-11-14 21:19:29--  https://raw.githubusercontent.com/fedhere/PUI2018_fb55/master/HW9_fb55/World%20firearms%20murders%20and%20ownership%20-%20Sheet%201.csv\n",
      "Resolving raw.githubusercontent.com (raw.githubusercontent.com)... 151.101.200.133\n",
      "Connecting to raw.githubusercontent.com (raw.githubusercontent.com)|151.101.200.133|:443... connected.\n",
      "HTTP request sent, awaiting response... 200 OK\n",
      "Length: 7852 (7.7K) [text/plain]\n",
      "Saving to: ‘world_firearms.csv’\n",
      "\n",
      "world_firearms.csv  100%[===================>]   7.67K  --.-KB/s    in 0s      \n",
      "\n",
      "2018-11-14 21:19:29 (138 MB/s) - ‘world_firearms.csv’ saved [7852/7852]\n",
      "\n"
     ]
    }
   ],
   "source": [
    "# download firearm data\n",
    "!wget https://raw.githubusercontent.com/fedhere/PUI2018_fb55/master/HW9_fb55/World%20firearms%20murders%20and%20ownership%20-%20Sheet%201.csv -O world_firearms.csv"
   ]
  },
  {
   "cell_type": "code",
   "execution_count": 10,
   "metadata": {},
   "outputs": [],
   "source": [
    "!mv world_firearms.csv $PUIDATA"
   ]
  },
  {
   "cell_type": "code",
   "execution_count": 11,
   "metadata": {},
   "outputs": [
    {
     "data": {
      "text/html": [
       "<div>\n",
       "<table border=\"1\" class=\"dataframe\">\n",
       "  <thead>\n",
       "    <tr style=\"text-align: right;\">\n",
       "      <th></th>\n",
       "      <th>Country/Territory</th>\n",
       "      <th>Number of homicides by firearm</th>\n",
       "      <th>Average total all civilian firearms</th>\n",
       "    </tr>\n",
       "  </thead>\n",
       "  <tbody>\n",
       "    <tr>\n",
       "      <th>0</th>\n",
       "      <td>Albania</td>\n",
       "      <td>56.0</td>\n",
       "      <td>270000.0</td>\n",
       "    </tr>\n",
       "    <tr>\n",
       "      <th>1</th>\n",
       "      <td>Algeria</td>\n",
       "      <td>20.0</td>\n",
       "      <td>1900000.0</td>\n",
       "    </tr>\n",
       "    <tr>\n",
       "      <th>4</th>\n",
       "      <td>Argentina</td>\n",
       "      <td>1198.0</td>\n",
       "      <td>3950000.0</td>\n",
       "    </tr>\n",
       "    <tr>\n",
       "      <th>5</th>\n",
       "      <td>Armenia</td>\n",
       "      <td>9.0</td>\n",
       "      <td>380000.0</td>\n",
       "    </tr>\n",
       "    <tr>\n",
       "      <th>6</th>\n",
       "      <td>Australia</td>\n",
       "      <td>30.0</td>\n",
       "      <td>3050000.0</td>\n",
       "    </tr>\n",
       "  </tbody>\n",
       "</table>\n",
       "</div>"
      ],
      "text/plain": [
       "  Country/Territory  Number of homicides by firearm  \\\n",
       "0           Albania                            56.0   \n",
       "1           Algeria                            20.0   \n",
       "4         Argentina                          1198.0   \n",
       "5           Armenia                             9.0   \n",
       "6         Australia                            30.0   \n",
       "\n",
       "   Average total all civilian firearms  \n",
       "0                             270000.0  \n",
       "1                            1900000.0  \n",
       "4                            3950000.0  \n",
       "5                             380000.0  \n",
       "6                            3050000.0  "
      ]
     },
     "execution_count": 11,
     "metadata": {},
     "output_type": "execute_result"
    }
   ],
   "source": [
    "# read data\n",
    "firearms = pd.read_csv(os.getenv(\"PUIDATA\") + \"/world_firearms.csv\")\n",
    "firearms = firearms[['Country/Territory', 'Number of homicides by firearm', 'Average total all civilian firearms']]\n",
    "firearms.dropna(axis=0, inplace=True)\n",
    "firearms.head()"
   ]
  },
  {
   "cell_type": "code",
   "execution_count": 12,
   "metadata": {},
   "outputs": [
    {
     "name": "stdout",
     "output_type": "stream",
     "text": [
      "Archive:  world_gdp.zip\r\n",
      "  inflating: /nfshome/hl3282/PUIdata/Metadata_Indicator_API_NY.GDP.MKTP.CD_DS2_en_csv_v2_10224782.csv  \r\n",
      "  inflating: /nfshome/hl3282/PUIdata/API_NY.GDP.MKTP.CD_DS2_en_csv_v2_10224782.csv  \r\n",
      "  inflating: /nfshome/hl3282/PUIdata/Metadata_Country_API_NY.GDP.MKTP.CD_DS2_en_csv_v2_10224782.csv  \r\n"
     ]
    }
   ],
   "source": [
    "url = \"http://api.worldbank.org/v2/en/indicator/NY.GDP.MKTP.CD?downloadformat=csv\"\n",
    "urllib.request.urlretrieve(url, \"world_gdp.zip\")\n",
    "!unzip world_gdp.zip -d $PUIDATA"
   ]
  },
  {
   "cell_type": "code",
   "execution_count": 13,
   "metadata": {},
   "outputs": [
    {
     "data": {
      "text/html": [
       "<div>\n",
       "<table border=\"1\" class=\"dataframe\">\n",
       "  <thead>\n",
       "    <tr style=\"text-align: right;\">\n",
       "      <th></th>\n",
       "      <th>gdp</th>\n",
       "      <th>Country Name</th>\n",
       "    </tr>\n",
       "  </thead>\n",
       "  <tbody>\n",
       "    <tr>\n",
       "      <th>1</th>\n",
       "      <td>2.053654e+10</td>\n",
       "      <td>Afghanistan</td>\n",
       "    </tr>\n",
       "    <tr>\n",
       "      <th>2</th>\n",
       "      <td>1.139232e+11</td>\n",
       "      <td>Angola</td>\n",
       "    </tr>\n",
       "    <tr>\n",
       "      <th>3</th>\n",
       "      <td>1.231978e+10</td>\n",
       "      <td>Albania</td>\n",
       "    </tr>\n",
       "    <tr>\n",
       "      <th>4</th>\n",
       "      <td>3.164615e+09</td>\n",
       "      <td>Andorra</td>\n",
       "    </tr>\n",
       "    <tr>\n",
       "      <th>5</th>\n",
       "      <td>2.786139e+12</td>\n",
       "      <td>Arab World</td>\n",
       "    </tr>\n",
       "  </tbody>\n",
       "</table>\n",
       "</div>"
      ],
      "text/plain": [
       "            gdp Country Name\n",
       "1  2.053654e+10  Afghanistan\n",
       "2  1.139232e+11       Angola\n",
       "3  1.231978e+10      Albania\n",
       "4  3.164615e+09      Andorra\n",
       "5  2.786139e+12   Arab World"
      ]
     },
     "execution_count": 13,
     "metadata": {},
     "output_type": "execute_result"
    }
   ],
   "source": [
    "gdp = pd.read_csv(os.getenv(\"PUIDATA\") + \"/API_NY.GDP.MKTP.CD_DS2_en_csv_v2_10224782.csv\", skiprows=1, header=1)\n",
    "gdp = gdp[['2012','Country Name']]\n",
    "gdp.rename(columns={'2012':'gdp'}, inplace=True)\n",
    "gdp.dropna(axis=0,inplace=True)\n",
    "gdp.head()"
   ]
  },
  {
   "cell_type": "code",
   "execution_count": 14,
   "metadata": {},
   "outputs": [
    {
     "data": {
      "text/html": [
       "<div>\n",
       "<table border=\"1\" class=\"dataframe\">\n",
       "  <thead>\n",
       "    <tr style=\"text-align: right;\">\n",
       "      <th></th>\n",
       "      <th>population</th>\n",
       "      <th>Country Name</th>\n",
       "      <th>gdp</th>\n",
       "    </tr>\n",
       "  </thead>\n",
       "  <tbody>\n",
       "    <tr>\n",
       "      <th>0</th>\n",
       "      <td>30696958.0</td>\n",
       "      <td>Afghanistan</td>\n",
       "      <td>2.053654e+10</td>\n",
       "    </tr>\n",
       "    <tr>\n",
       "      <th>1</th>\n",
       "      <td>25096150.0</td>\n",
       "      <td>Angola</td>\n",
       "      <td>1.139232e+11</td>\n",
       "    </tr>\n",
       "    <tr>\n",
       "      <th>2</th>\n",
       "      <td>2900401.0</td>\n",
       "      <td>Albania</td>\n",
       "      <td>1.231978e+10</td>\n",
       "    </tr>\n",
       "    <tr>\n",
       "      <th>3</th>\n",
       "      <td>82431.0</td>\n",
       "      <td>Andorra</td>\n",
       "      <td>3.164615e+09</td>\n",
       "    </tr>\n",
       "    <tr>\n",
       "      <th>4</th>\n",
       "      <td>373306993.0</td>\n",
       "      <td>Arab World</td>\n",
       "      <td>2.786139e+12</td>\n",
       "    </tr>\n",
       "  </tbody>\n",
       "</table>\n",
       "</div>"
      ],
      "text/plain": [
       "    population Country Name           gdp\n",
       "0   30696958.0  Afghanistan  2.053654e+10\n",
       "1   25096150.0       Angola  1.139232e+11\n",
       "2    2900401.0      Albania  1.231978e+10\n",
       "3      82431.0      Andorra  3.164615e+09\n",
       "4  373306993.0   Arab World  2.786139e+12"
      ]
     },
     "execution_count": 14,
     "metadata": {},
     "output_type": "execute_result"
    }
   ],
   "source": [
    "df_ = df_.merge(gdp, right_on='Country Name', left_on='Country Name')\n",
    "df_.head()"
   ]
  },
  {
   "cell_type": "code",
   "execution_count": 15,
   "metadata": {},
   "outputs": [
    {
     "data": {
      "text/html": [
       "<div>\n",
       "<table border=\"1\" class=\"dataframe\">\n",
       "  <thead>\n",
       "    <tr style=\"text-align: right;\">\n",
       "      <th></th>\n",
       "      <th>population</th>\n",
       "      <th>Country Name</th>\n",
       "      <th>gdp</th>\n",
       "      <th>Country/Territory</th>\n",
       "      <th>Number of homicides by firearm</th>\n",
       "      <th>Average total all civilian firearms</th>\n",
       "    </tr>\n",
       "  </thead>\n",
       "  <tbody>\n",
       "    <tr>\n",
       "      <th>0</th>\n",
       "      <td>2900401.0</td>\n",
       "      <td>Albania</td>\n",
       "      <td>1.231978e+10</td>\n",
       "      <td>Albania</td>\n",
       "      <td>56.0</td>\n",
       "      <td>270000.0</td>\n",
       "    </tr>\n",
       "    <tr>\n",
       "      <th>1</th>\n",
       "      <td>42096739.0</td>\n",
       "      <td>Argentina</td>\n",
       "      <td>5.459824e+11</td>\n",
       "      <td>Argentina</td>\n",
       "      <td>1198.0</td>\n",
       "      <td>3950000.0</td>\n",
       "    </tr>\n",
       "    <tr>\n",
       "      <th>2</th>\n",
       "      <td>2881922.0</td>\n",
       "      <td>Armenia</td>\n",
       "      <td>1.061932e+10</td>\n",
       "      <td>Armenia</td>\n",
       "      <td>9.0</td>\n",
       "      <td>380000.0</td>\n",
       "    </tr>\n",
       "    <tr>\n",
       "      <th>3</th>\n",
       "      <td>22742475.0</td>\n",
       "      <td>Australia</td>\n",
       "      <td>1.543411e+12</td>\n",
       "      <td>Australia</td>\n",
       "      <td>30.0</td>\n",
       "      <td>3050000.0</td>\n",
       "    </tr>\n",
       "    <tr>\n",
       "      <th>4</th>\n",
       "      <td>8429991.0</td>\n",
       "      <td>Austria</td>\n",
       "      <td>4.094252e+11</td>\n",
       "      <td>Austria</td>\n",
       "      <td>18.0</td>\n",
       "      <td>2500000.0</td>\n",
       "    </tr>\n",
       "  </tbody>\n",
       "</table>\n",
       "</div>"
      ],
      "text/plain": [
       "   population Country Name           gdp Country/Territory  \\\n",
       "0   2900401.0      Albania  1.231978e+10           Albania   \n",
       "1  42096739.0    Argentina  5.459824e+11         Argentina   \n",
       "2   2881922.0      Armenia  1.061932e+10           Armenia   \n",
       "3  22742475.0    Australia  1.543411e+12         Australia   \n",
       "4   8429991.0      Austria  4.094252e+11           Austria   \n",
       "\n",
       "   Number of homicides by firearm  Average total all civilian firearms  \n",
       "0                            56.0                             270000.0  \n",
       "1                          1198.0                            3950000.0  \n",
       "2                             9.0                             380000.0  \n",
       "3                            30.0                            3050000.0  \n",
       "4                            18.0                            2500000.0  "
      ]
     },
     "execution_count": 15,
     "metadata": {},
     "output_type": "execute_result"
    }
   ],
   "source": [
    "df_ = df_.merge(firearms, right_on='Country/Territory', left_on='Country Name')\n",
    "df_.head()"
   ]
  },
  {
   "cell_type": "code",
   "execution_count": 16,
   "metadata": {},
   "outputs": [
    {
     "data": {
      "text/html": [
       "<div>\n",
       "<table border=\"1\" class=\"dataframe\">\n",
       "  <thead>\n",
       "    <tr style=\"text-align: right;\">\n",
       "      <th></th>\n",
       "      <th>population</th>\n",
       "      <th>Country Name</th>\n",
       "      <th>gdp</th>\n",
       "      <th>Number of homicides by firearm</th>\n",
       "      <th>Average total all civilian firearms</th>\n",
       "      <th>Country</th>\n",
       "      <th>Guns per 100 inhabitants</th>\n",
       "      <th>Number of mass shootings (1983-2013)</th>\n",
       "    </tr>\n",
       "  </thead>\n",
       "  <tbody>\n",
       "    <tr>\n",
       "      <th>0</th>\n",
       "      <td>22742475.0</td>\n",
       "      <td>Australia</td>\n",
       "      <td>1.543411e+12</td>\n",
       "      <td>30.0</td>\n",
       "      <td>3050000.0</td>\n",
       "      <td>Australia</td>\n",
       "      <td>15.0</td>\n",
       "      <td>4</td>\n",
       "    </tr>\n",
       "    <tr>\n",
       "      <th>1</th>\n",
       "      <td>8429991.0</td>\n",
       "      <td>Austria</td>\n",
       "      <td>4.094252e+11</td>\n",
       "      <td>18.0</td>\n",
       "      <td>2500000.0</td>\n",
       "      <td>Austria</td>\n",
       "      <td>30.4</td>\n",
       "      <td>1</td>\n",
       "    </tr>\n",
       "    <tr>\n",
       "      <th>2</th>\n",
       "      <td>11128246.0</td>\n",
       "      <td>Belgium</td>\n",
       "      <td>4.978842e+11</td>\n",
       "      <td>70.0</td>\n",
       "      <td>1800000.0</td>\n",
       "      <td>Belgium</td>\n",
       "      <td>17.2</td>\n",
       "      <td>2</td>\n",
       "    </tr>\n",
       "    <tr>\n",
       "      <th>3</th>\n",
       "      <td>34750545.0</td>\n",
       "      <td>Canada</td>\n",
       "      <td>1.824289e+12</td>\n",
       "      <td>173.0</td>\n",
       "      <td>9950000.0</td>\n",
       "      <td>Canada</td>\n",
       "      <td>30.8</td>\n",
       "      <td>4</td>\n",
       "    </tr>\n",
       "    <tr>\n",
       "      <th>4</th>\n",
       "      <td>7996861.0</td>\n",
       "      <td>Switzerland</td>\n",
       "      <td>6.680436e+11</td>\n",
       "      <td>57.0</td>\n",
       "      <td>3400000.0</td>\n",
       "      <td>Switzerland</td>\n",
       "      <td>45.7</td>\n",
       "      <td>2</td>\n",
       "    </tr>\n",
       "  </tbody>\n",
       "</table>\n",
       "</div>"
      ],
      "text/plain": [
       "   population Country Name           gdp  Number of homicides by firearm  \\\n",
       "0  22742475.0    Australia  1.543411e+12                            30.0   \n",
       "1   8429991.0      Austria  4.094252e+11                            18.0   \n",
       "2  11128246.0      Belgium  4.978842e+11                            70.0   \n",
       "3  34750545.0       Canada  1.824289e+12                           173.0   \n",
       "4   7996861.0  Switzerland  6.680436e+11                            57.0   \n",
       "\n",
       "   Average total all civilian firearms      Country  Guns per 100 inhabitants  \\\n",
       "0                            3050000.0    Australia                      15.0   \n",
       "1                            2500000.0      Austria                      30.4   \n",
       "2                            1800000.0      Belgium                      17.2   \n",
       "3                            9950000.0       Canada                      30.8   \n",
       "4                            3400000.0  Switzerland                      45.7   \n",
       "\n",
       "   Number of mass shootings (1983-2013)  \n",
       "0                                     4  \n",
       "1                                     1  \n",
       "2                                     2  \n",
       "3                                     4  \n",
       "4                                     2  "
      ]
     },
     "execution_count": 16,
     "metadata": {},
     "output_type": "execute_result"
    }
   ],
   "source": [
    "df_ = df_.merge(mass_shooting, right_on='Country', left_on='Country Name')\n",
    "df_.drop(['Country/Territory'], axis=1, inplace=True)\n",
    "df_.head()"
   ]
  },
  {
   "cell_type": "code",
   "execution_count": 17,
   "metadata": {},
   "outputs": [
    {
     "data": {
      "text/html": [
       "<div>\n",
       "<table border=\"1\" class=\"dataframe\">\n",
       "  <thead>\n",
       "    <tr style=\"text-align: right;\">\n",
       "      <th></th>\n",
       "      <th>pop</th>\n",
       "      <th>Country Name</th>\n",
       "      <th>gdp</th>\n",
       "      <th>Number of homicides by firearm</th>\n",
       "      <th>Average total all civilian firearms</th>\n",
       "      <th>Country</th>\n",
       "      <th>Guns per 100 inhabitants</th>\n",
       "      <th>Number of mass shootings</th>\n",
       "    </tr>\n",
       "  </thead>\n",
       "  <tbody>\n",
       "    <tr>\n",
       "      <th>0</th>\n",
       "      <td>22742475.0</td>\n",
       "      <td>Australia</td>\n",
       "      <td>1.543411e+12</td>\n",
       "      <td>30.0</td>\n",
       "      <td>3050000.0</td>\n",
       "      <td>Australia</td>\n",
       "      <td>15.0</td>\n",
       "      <td>4</td>\n",
       "    </tr>\n",
       "    <tr>\n",
       "      <th>1</th>\n",
       "      <td>8429991.0</td>\n",
       "      <td>Austria</td>\n",
       "      <td>4.094252e+11</td>\n",
       "      <td>18.0</td>\n",
       "      <td>2500000.0</td>\n",
       "      <td>Austria</td>\n",
       "      <td>30.4</td>\n",
       "      <td>1</td>\n",
       "    </tr>\n",
       "    <tr>\n",
       "      <th>2</th>\n",
       "      <td>11128246.0</td>\n",
       "      <td>Belgium</td>\n",
       "      <td>4.978842e+11</td>\n",
       "      <td>70.0</td>\n",
       "      <td>1800000.0</td>\n",
       "      <td>Belgium</td>\n",
       "      <td>17.2</td>\n",
       "      <td>2</td>\n",
       "    </tr>\n",
       "    <tr>\n",
       "      <th>3</th>\n",
       "      <td>34750545.0</td>\n",
       "      <td>Canada</td>\n",
       "      <td>1.824289e+12</td>\n",
       "      <td>173.0</td>\n",
       "      <td>9950000.0</td>\n",
       "      <td>Canada</td>\n",
       "      <td>30.8</td>\n",
       "      <td>4</td>\n",
       "    </tr>\n",
       "    <tr>\n",
       "      <th>4</th>\n",
       "      <td>7996861.0</td>\n",
       "      <td>Switzerland</td>\n",
       "      <td>6.680436e+11</td>\n",
       "      <td>57.0</td>\n",
       "      <td>3400000.0</td>\n",
       "      <td>Switzerland</td>\n",
       "      <td>45.7</td>\n",
       "      <td>2</td>\n",
       "    </tr>\n",
       "  </tbody>\n",
       "</table>\n",
       "</div>"
      ],
      "text/plain": [
       "          pop Country Name           gdp  Number of homicides by firearm  \\\n",
       "0  22742475.0    Australia  1.543411e+12                            30.0   \n",
       "1   8429991.0      Austria  4.094252e+11                            18.0   \n",
       "2  11128246.0      Belgium  4.978842e+11                            70.0   \n",
       "3  34750545.0       Canada  1.824289e+12                           173.0   \n",
       "4   7996861.0  Switzerland  6.680436e+11                            57.0   \n",
       "\n",
       "   Average total all civilian firearms      Country  Guns per 100 inhabitants  \\\n",
       "0                            3050000.0    Australia                      15.0   \n",
       "1                            2500000.0      Austria                      30.4   \n",
       "2                            1800000.0      Belgium                      17.2   \n",
       "3                            9950000.0       Canada                      30.8   \n",
       "4                            3400000.0  Switzerland                      45.7   \n",
       "\n",
       "   Number of mass shootings  \n",
       "0                         4  \n",
       "1                         1  \n",
       "2                         2  \n",
       "3                         4  \n",
       "4                         2  "
      ]
     },
     "execution_count": 17,
     "metadata": {},
     "output_type": "execute_result"
    }
   ],
   "source": [
    "df_.rename(columns={'Number of mass shootings (1983-2013)':'Number of mass shootings', 'population':'pop'}, inplace=True)\n",
    "df_.head()"
   ]
  },
  {
   "cell_type": "markdown",
   "metadata": {
    "run_control": {
     "frozen": false,
     "read_only": false
    }
   },
   "source": [
    "# exploration\n",
    "\n",
    "## plot mass shooting vs gdp in absolute numbers, and per person. Show the errorbars (y errors)\n",
    "\n",
    "Use Poisson statistics for the errorbars on the number of mass shootings (optional: include errors on the population, also as Poisson statistics)\n",
    "\n",
    "Are there any points that look like they may be outilers?\n"
   ]
  },
  {
   "cell_type": "code",
   "execution_count": 18,
   "metadata": {},
   "outputs": [
    {
     "name": "stderr",
     "output_type": "stream",
     "text": [
      "/usr/local/Anaconda3-5.0.0-Linux-x86_64/envs/PUI2016_Python3/lib/python3.5/site-packages/matplotlib/font_manager.py:1316: UserWarning: findfont: Font family ['sans-serif'] not found. Falling back to DejaVu Sans\n",
      "  (prop.get_family(), self.defaultFamily[fontext]))\n"
     ]
    },
    {
     "data": {
      "image/png": "[encoded data removed]",
      "text/plain": [
       "<matplotlib.figure.Figure at 0x7f8ba9713048>"
      ]
     },
     "metadata": {},
     "output_type": "display_data"
    },
    {
     "name": "stdout",
     "output_type": "stream",
     "text": [
      "Number of mass shooting vs GDP, errors represent Poisson statistics.\n",
      "The datapoint to the top right of the plot is the USA, which has both the highest GDP and the highest number of mass shootings\n"
     ]
    }
   ],
   "source": [
    "fig = pl.figure(figsize=(10,5)) \n",
    "ax = fig.add_subplot(111)\n",
    "scatter = ax.scatter(df_.gdp / 1e9, df_['Number of mass shootings'])\n",
    "ax.errorbar(df_.gdp / 1e9, df_['Number of mass shootings'], \n",
    "            yerr = np.sqrt(df_['Number of mass shootings'] * 1.0), fmt = '.')\n",
    "ax.set_xlabel(\"GDP (in billions)\")\n",
    "ax.set_ylabel(\"Number of mass shooting\")\n",
    "ax.set_ylim()\n",
    "pl.show()\n",
    "print (\"Number of mass shooting vs GDP, \" + \n",
    "       \"errors represent Poisson statistics.\\n\" + \n",
    "       \"The datapoint to the top right of the plot is the USA, \" + \n",
    "       \"which has both the highest GDP and the highest number of mass shootings\")"
   ]
  },
  {
   "cell_type": "code",
   "execution_count": 19,
   "metadata": {
    "ExecuteTime": {
     "end_time": "2017-10-12T07:17:52.778486",
     "start_time": "2017-10-12T07:17:52.768299"
    },
    "run_control": {
     "frozen": false,
     "read_only": false
    }
   },
   "outputs": [],
   "source": [
    "df_['shootingspp'] = df_[\"Number of mass shootings\"] / df_['pop']*1e3"
   ]
  },
  {
   "cell_type": "code",
   "execution_count": 20,
   "metadata": {},
   "outputs": [
    {
     "name": "stderr",
     "output_type": "stream",
     "text": [
      "/usr/local/Anaconda3-5.0.0-Linux-x86_64/envs/PUI2016_Python3/lib/python3.5/site-packages/matplotlib/font_manager.py:1316: UserWarning: findfont: Font family ['sans-serif'] not found. Falling back to DejaVu Sans\n",
      "  (prop.get_family(), self.defaultFamily[fontext]))\n"
     ]
    },
    {
     "data": {
      "image/png": "[encoded data removed]",
      "text/plain": [
       "<matplotlib.figure.Figure at 0x7f8bab1bfb38>"
      ]
     },
     "metadata": {},
     "output_type": "display_data"
    },
    {
     "name": "stdout",
     "output_type": "stream",
     "text": [
      "Number of mass shooting per person vs GDP, errors represent Poisson statistics.\n",
      "The datapoint to the top right of the plot is the USA, which has both the highest GDP and the highest number of mass shootings\n"
     ]
    }
   ],
   "source": [
    "fig = pl.figure(figsize=(10,5)) \n",
    "ax = fig.add_subplot(111)\n",
    "scatter = ax.scatter(df_.gdp / 1e9, df_['shootingspp'])\n",
    "ax.errorbar(df_.gdp / 1e9, df_['shootingspp'], \n",
    "            yerr = np.sqrt(df_['shootingspp'] * 1.0), fmt = '.')\n",
    "ax.set_xlabel(\"GDP (in billions)\")\n",
    "ax.set_ylabel(\"Number of mass shooting per person\")\n",
    "ax.set_ylim()\n",
    "pl.show()\n",
    "print (\"Number of mass shooting per person vs GDP, \" + \n",
    "       \"errors represent Poisson statistics.\\n\" + \n",
    "       \"The datapoint to the top right of the plot is the USA, \" + \n",
    "       \"which has both the highest GDP and the highest number of mass shootings\")"
   ]
  },
  {
   "cell_type": "code",
   "execution_count": 21,
   "metadata": {},
   "outputs": [
    {
     "name": "stderr",
     "output_type": "stream",
     "text": [
      "/usr/local/Anaconda3-5.0.0-Linux-x86_64/envs/PUI2016_Python3/lib/python3.5/site-packages/matplotlib/font_manager.py:1316: UserWarning: findfont: Font family ['sans-serif'] not found. Falling back to DejaVu Sans\n",
      "  (prop.get_family(), self.defaultFamily[fontext]))\n"
     ]
    },
    {
     "data": {
      "image/png": "[encoded data removed]",
      "text/plain": [
       "<matplotlib.figure.Figure at 0x7f8ba96a10b8>"
      ]
     },
     "metadata": {},
     "output_type": "display_data"
    },
    {
     "name": "stdout",
     "output_type": "stream",
     "text": [
      "Number of mass shooting vs GDP per person, errors represent Poisson statistics.\n",
      "The datapoint to the top right of the plot is the USA, which has both the highest GDP and the highest number of mass shootings\n"
     ]
    }
   ],
   "source": [
    "df_['gdpspp'] = df_['gdp'] / df_['pop']\n",
    "fig = pl.figure(figsize=(10,5)) \n",
    "ax = fig.add_subplot(111)\n",
    "scatter = ax.scatter(df_.gdpspp, df_['Number of mass shootings'])\n",
    "ax.errorbar(df_.gdpspp, df_['Number of mass shootings'], \n",
    "            yerr = np.sqrt(df_['Number of mass shootings'] * 1.0), fmt = '.')\n",
    "ax.set_xlabel(\"GDP per person\")\n",
    "ax.set_ylabel(\"Number of mass shooting\")\n",
    "ax.set_ylim()\n",
    "pl.show()\n",
    "print (\"Number of mass shooting vs GDP per person, \" + \n",
    "       \"errors represent Poisson statistics.\\n\" + \n",
    "       \"The datapoint to the top right of the plot is the USA, \" + \n",
    "       \"which has both the highest GDP and the highest number of mass shootings\")"
   ]
  },
  {
   "cell_type": "markdown",
   "metadata": {
    "run_control": {
     "frozen": false,
     "read_only": false
    }
   },
   "source": [
    "## plot the average number of civilian fire arms per person\n",
    "first without errors, then with errors. are there  points that look like outliers?"
   ]
  },
  {
   "cell_type": "code",
   "execution_count": 22,
   "metadata": {},
   "outputs": [],
   "source": [
    "df_['Average_civilian_firearms_pp'] = df_[\"Average total all civilian firearms\"] / df_['pop'] "
   ]
  },
  {
   "cell_type": "code",
   "execution_count": 23,
   "metadata": {},
   "outputs": [
    {
     "name": "stderr",
     "output_type": "stream",
     "text": [
      "/usr/local/Anaconda3-5.0.0-Linux-x86_64/envs/PUI2016_Python3/lib/python3.5/site-packages/matplotlib/font_manager.py:1316: UserWarning: findfont: Font family ['sans-serif'] not found. Falling back to DejaVu Sans\n",
      "  (prop.get_family(), self.defaultFamily[fontext]))\n"
     ]
    },
    {
     "data": {
      "image/png": "[encoded data removed]",
      "text/plain": [
       "<matplotlib.figure.Figure at 0x7f8bab1d57b8>"
      ]
     },
     "metadata": {},
     "output_type": "display_data"
    },
    {
     "name": "stdout",
     "output_type": "stream",
     "text": [
      "the average number of civilian fire arms per person vs GDP, errors represent Poisson statistics.\n",
      "The datapoint to the top right of the plot is the USA, which has noth the highest GDP and the highest number of mass shootings\n"
     ]
    }
   ],
   "source": [
    "fig = pl.figure(figsize=(10,5)) \n",
    "ax = fig.add_subplot(111)\n",
    "scatter = ax.scatter(df_.gdp / 1e9, df_['Average_civilian_firearms_pp'])\n",
    "ax.set_xlabel(\"GDP (in billions)\")\n",
    "ax.set_ylabel(\"the average number of civilian fire arms per person\")\n",
    "ax.set_ylim()\n",
    "pl.show()\n",
    "print (\"the average number of civilian fire arms per person vs GDP, \" + \n",
    "       \"errors represent Poisson statistics.\\n\" + \n",
    "       \"The datapoint to the top right of the plot is the USA, \" + \n",
    "       \"which has noth the highest GDP and the highest number of mass shootings\")"
   ]
  },
  {
   "cell_type": "code",
   "execution_count": 24,
   "metadata": {},
   "outputs": [
    {
     "name": "stderr",
     "output_type": "stream",
     "text": [
      "/usr/local/Anaconda3-5.0.0-Linux-x86_64/envs/PUI2016_Python3/lib/python3.5/site-packages/matplotlib/font_manager.py:1316: UserWarning: findfont: Font family ['sans-serif'] not found. Falling back to DejaVu Sans\n",
      "  (prop.get_family(), self.defaultFamily[fontext]))\n"
     ]
    },
    {
     "data": {
      "image/png": "[encoded data removed]",
      "text/plain": [
       "<matplotlib.figure.Figure at 0x7f8ba9597438>"
      ]
     },
     "metadata": {},
     "output_type": "display_data"
    },
    {
     "name": "stdout",
     "output_type": "stream",
     "text": [
      "the average number of civilian fire arms per person vs GDP, errors represent Poisson statistics.\n",
      "The datapoint to the top right of the plot is the USA, which has both the highest GDP and the highest number of mass shootings\n"
     ]
    }
   ],
   "source": [
    "fig = pl.figure(figsize=(10,5)) \n",
    "ax = fig.add_subplot(111)\n",
    "scatter = ax.scatter(df_.gdp / 1e9, df_['Average_civilian_firearms_pp'])\n",
    "ax.errorbar(df_.gdp / 1e9, df_['Average_civilian_firearms_pp'], \n",
    "            yerr = np.sqrt(df_['Average_civilian_firearms_pp'] * 1.0), fmt = '.')\n",
    "ax.set_xlabel(\"GDP (in billions)\")\n",
    "ax.set_ylabel(\"the average number of civilian fire arms per person\")\n",
    "ax.set_ylim()\n",
    "pl.show()\n",
    "print (\"the average number of civilian fire arms per person vs GDP, \" + \n",
    "       \"errors represent Poisson statistics.\\n\" + \n",
    "       \"The datapoint to the top right of the plot is the USA, \" + \n",
    "       \"which has both the highest GDP and the highest number of mass shootings\")"
   ]
  },
  {
   "cell_type": "markdown",
   "metadata": {
    "run_control": {
     "frozen": false,
     "read_only": false
    }
   },
   "source": [
    "## plot the average number of homicide by fire arms per person\n",
    "first as a histogram\n",
    "\n",
    "then against the country GDP, with statistical errors. are there  points that look like outliers?"
   ]
  },
  {
   "cell_type": "code",
   "execution_count": 25,
   "metadata": {
    "ExecuteTime": {
     "end_time": "2017-10-12T07:53:17.910541",
     "start_time": "2017-10-12T07:53:17.506477"
    },
    "run_control": {
     "frozen": false,
     "read_only": false
    }
   },
   "outputs": [
    {
     "name": "stderr",
     "output_type": "stream",
     "text": [
      "/usr/local/Anaconda3-5.0.0-Linux-x86_64/envs/PUI2016_Python3/lib/python3.5/site-packages/matplotlib/font_manager.py:1316: UserWarning: findfont: Font family ['sans-serif'] not found. Falling back to DejaVu Sans\n",
      "  (prop.get_family(), self.defaultFamily[fontext]))\n"
     ]
    },
    {
     "data": {
      "image/png": "[encoded data removed]",
      "text/plain": [
       "<matplotlib.figure.Figure at 0x7f8ba9713e10>"
      ]
     },
     "metadata": {},
     "output_type": "display_data"
    }
   ],
   "source": [
    "fig, ax = pl.subplots()\n",
    "ax.hist(df_['Number of homicides by firearm'] / df_['pop'] * 1000)\n",
    "ax.set_xlabel('homicides by firearm per 1000 people');\n",
    "pl.show()"
   ]
  },
  {
   "cell_type": "code",
   "execution_count": 26,
   "metadata": {},
   "outputs": [],
   "source": [
    "df_['homipp'] = df_['Number of homicides by firearm'] / df_['pop'] * 1000"
   ]
  },
  {
   "cell_type": "code",
   "execution_count": 27,
   "metadata": {},
   "outputs": [
    {
     "name": "stderr",
     "output_type": "stream",
     "text": [
      "/usr/local/Anaconda3-5.0.0-Linux-x86_64/envs/PUI2016_Python3/lib/python3.5/site-packages/matplotlib/font_manager.py:1316: UserWarning: findfont: Font family ['sans-serif'] not found. Falling back to DejaVu Sans\n",
      "  (prop.get_family(), self.defaultFamily[fontext]))\n"
     ]
    },
    {
     "data": {
      "image/png": "[encoded data removed]",
      "text/plain": [
       "<matplotlib.figure.Figure at 0x7f8ba9530748>"
      ]
     },
     "metadata": {},
     "output_type": "display_data"
    },
    {
     "name": "stdout",
     "output_type": "stream",
     "text": [
      " the average number of homicide by fire arms per person vs GDP, errors represent Poisson statistics.\n",
      "The datapoint to the top right of the plot is the USA, which has both the highest GDP and the highest number of mass shootings\n"
     ]
    }
   ],
   "source": [
    "fig = pl.figure(figsize=(10,5)) \n",
    "ax = fig.add_subplot(111)\n",
    "scatter = ax.scatter(df_.gdp / 1e9, df_['homipp'] )\n",
    "ax.errorbar(df_.gdp / 1e9, df_['homipp'], \n",
    "            yerr = np.sqrt(df_['homipp'] * 1.0), fmt = '.')\n",
    "ax.set_xlabel(\"GDP (in billions)\")\n",
    "ax.set_ylabel(\" the average number of homicide by fire arms per person\")\n",
    "ax.set_ylim()\n",
    "pl.show()\n",
    "print (\" the average number of homicide by fire arms per person vs GDP, \" + \n",
    "       \"errors represent Poisson statistics.\\n\" + \n",
    "       \"The datapoint to the top right of the plot is the USA, \" + \n",
    "       \"which has both the highest GDP and the highest number of mass shootings\")"
   ]
  },
  {
   "cell_type": "markdown",
   "metadata": {
    "run_control": {
     "frozen": false,
     "read_only": false
    }
   },
   "source": [
    "## plot the number of  homicides by fire arm against the number of civilian firearms. plot the  US in a different color\n",
    "with and without errorbars\n"
   ]
  },
  {
   "cell_type": "code",
   "execution_count": 28,
   "metadata": {},
   "outputs": [
    {
     "name": "stderr",
     "output_type": "stream",
     "text": [
      "/usr/local/Anaconda3-5.0.0-Linux-x86_64/envs/PUI2016_Python3/lib/python3.5/site-packages/matplotlib/font_manager.py:1316: UserWarning: findfont: Font family ['sans-serif'] not found. Falling back to DejaVu Sans\n",
      "  (prop.get_family(), self.defaultFamily[fontext]))\n"
     ]
    },
    {
     "data": {
      "image/png": "[encoded data removed]",
      "text/plain": [
       "<matplotlib.figure.Figure at 0x7f8ba94e7da0>"
      ]
     },
     "metadata": {},
     "output_type": "display_data"
    },
    {
     "name": "stdout",
     "output_type": "stream",
     "text": [
      " the number of homicides by fire arm vs the number of civilian firearms, errors represent Poisson statistics.\n",
      "The datapoint to the top right of the plot is the USA, which has both the highest GDP and the highest number of mass shootings\n"
     ]
    }
   ],
   "source": [
    "# with errorbars\n",
    "fig = pl.figure(figsize=(10,5)) \n",
    "ax = fig.add_subplot(111)\n",
    "scatter1 = ax.scatter(df_[df_['Country Name'] != 'United States']['Average total all civilian firearms']/1e8, \n",
    "                      df_[df_['Country Name'] != 'United States']['Number of homicides by firearm'])\n",
    "scatter2 = ax.scatter(df_[df_['Country Name'] == 'United States']['Average total all civilian firearms']/1e8, \n",
    "                      df_[df_['Country Name'] == 'United States']['Number of homicides by firearm'], c='red')\n",
    "ax.errorbar(df_[df_['Country Name'] != 'United States']['Average total all civilian firearms']/1e8, \n",
    "            df_[df_['Country Name'] != 'United States']['Number of homicides by firearm'], \n",
    "            yerr = np.sqrt(df_[df_['Country Name'] != 'United States']['Number of homicides by firearm'] * 1.0), \n",
    "            fmt = '.')\n",
    "ax.errorbar(df_[df_['Country Name'] == 'United States']['Average total all civilian firearms']/1e8, \n",
    "            df_[df_['Country Name'] == 'United States']['Number of homicides by firearm'], \n",
    "            yerr = np.sqrt(df_[df_['Country Name'] == 'United States']['Number of homicides by firearm'] * 1.0), \n",
    "            fmt = '.', \n",
    "            c='red')\n",
    "ax.set_xlabel(\"the number of civilian firearms\")\n",
    "ax.set_ylabel(\"the number of homicides by fire arm\")\n",
    "ax.set_ylim()\n",
    "pl.show()\n",
    "print (\" the number of homicides by fire arm vs the number of civilian firearms, \" + \n",
    "       \"errors represent Poisson statistics.\\n\" + \n",
    "       \"The datapoint to the top right of the plot is the USA, \" + \n",
    "       \"which has both the highest GDP and the highest number of mass shootings\")"
   ]
  },
  {
   "cell_type": "code",
   "execution_count": 61,
   "metadata": {},
   "outputs": [
    {
     "name": "stderr",
     "output_type": "stream",
     "text": [
      "/usr/local/Anaconda3-5.0.0-Linux-x86_64/envs/PUI2016_Python3/lib/python3.5/site-packages/matplotlib/font_manager.py:1316: UserWarning: findfont: Font family ['sans-serif'] not found. Falling back to DejaVu Sans\n",
      "  (prop.get_family(), self.defaultFamily[fontext]))\n"
     ]
    },
    {
     "data": {
      "image/png": "[encoded data removed]",
      "text/plain": [
       "<matplotlib.figure.Figure at 0x7f8ba95e66a0>"
      ]
     },
     "metadata": {},
     "output_type": "display_data"
    },
    {
     "name": "stdout",
     "output_type": "stream",
     "text": [
      " the number of homicides by fire arm vs the number of civilian firearms, The datapoint to the top right of the plot is the USA, which has both the highest number of civilian firearms  and the number of homicides by fire arm\n"
     ]
    }
   ],
   "source": [
    "# without errorbars\n",
    "fig = pl.figure(figsize=(10,5)) \n",
    "ax = fig.add_subplot(111)\n",
    "scatter1 = ax.scatter(df_[df_['Country Name'] != 'United States']['Average total all civilian firearms']/1e8, \n",
    "                      df_[df_['Country Name'] != 'United States']['Number of homicides by firearm'])\n",
    "scatter2 = ax.scatter(df_[df_['Country Name'] == 'United States']['Average total all civilian firearms']/1e8,\n",
    "                      df_[df_['Country Name'] == 'United States']['Number of homicides by firearm'], c='red')\n",
    "ax.set_xlabel(\"the number of civilian firearms\")\n",
    "ax.set_ylabel(\"the number of homicides by fire arm\")\n",
    "ax.set_ylim()\n",
    "pl.show()\n",
    "print (\" the number of homicides by fire arm vs the number of civilian firearms, \" +  \n",
    "       \"The datapoint to the top right of the plot is the USA, \" + \n",
    "       \"which has both the highest number of civilian firearms  and the number of homicides by fire arm\")"
   ]
  },
  {
   "cell_type": "markdown",
   "metadata": {
    "run_control": {
     "frozen": false,
     "read_only": false
    }
   },
   "source": [
    "## plot the number of  mass shootings against the number of civilian firearms. plot the  US in a different color\n",
    "with and without errorbars\n"
   ]
  },
  {
   "cell_type": "code",
   "execution_count": 60,
   "metadata": {},
   "outputs": [
    {
     "name": "stderr",
     "output_type": "stream",
     "text": [
      "/usr/local/Anaconda3-5.0.0-Linux-x86_64/envs/PUI2016_Python3/lib/python3.5/site-packages/matplotlib/font_manager.py:1316: UserWarning: findfont: Font family ['sans-serif'] not found. Falling back to DejaVu Sans\n",
      "  (prop.get_family(), self.defaultFamily[fontext]))\n"
     ]
    },
    {
     "data": {
      "image/png": "[encoded data removed]",
      "text/plain": [
       "<matplotlib.figure.Figure at 0x7f8ba95f6f60>"
      ]
     },
     "metadata": {},
     "output_type": "display_data"
    },
    {
     "name": "stdout",
     "output_type": "stream",
     "text": [
      " the number of homicides by fire arm vs the number of civilian firearms, errors represent Poisson statistics.\n",
      "The datapoint to the top right of the plot is the USA, which has both the highest number of homicides by fire arm and the highest number of civilian firearms\n"
     ]
    }
   ],
   "source": [
    "# with errorbars\n",
    "fig = pl.figure(figsize=(10,5)) \n",
    "ax = fig.add_subplot(111)\n",
    "scatter1 = ax.scatter(df_[df_['Country Name'] != 'United States']['Average total all civilian firearms']/1e8, \n",
    "                      df_[df_['Country Name'] != 'United States']['Number of mass shootings'])\n",
    "scatter2 = ax.scatter(df_[df_['Country Name'] == 'United States']['Average total all civilian firearms']/1e8, \n",
    "                      df_[df_['Country Name'] == 'United States']['Number of mass shootings'], c='red')\n",
    "ax.errorbar(df_[df_['Country Name'] != 'United States']['Average total all civilian firearms']/1e8, \n",
    "            df_[df_['Country Name'] != 'United States']['Number of mass shootings'], \n",
    "            yerr=np.sqrt(df_[df_['Country Name'] != 'United States']['Number of mass shootings'] * 1.0),\n",
    "            fmt = '.')\n",
    "ax.errorbar(df_[df_['Country Name'] == 'United States']['Average total all civilian firearms']/1e8, \n",
    "            df_[df_['Country Name'] == 'United States']['Number of mass shootings'], \n",
    "            yerr = np.sqrt(df_[df_['Country Name'] == 'United States']['Number of mass shootings'] * 1.0), \n",
    "            fmt = '.', c='red')\n",
    "ax.set_xlabel(\"the number of civilian firearms\")\n",
    "ax.set_ylabel(\"the number of homicides by fire arm\")\n",
    "ax.set_ylim()\n",
    "pl.show()\n",
    "print (\" the number of homicides by fire arm vs the number of civilian firearms, \" + \n",
    "       \"errors represent Poisson statistics.\\n\" + \n",
    "       \"The datapoint to the top right of the plot is the USA, \" + \n",
    "       \"which has both the highest number of homicides by fire arm and the highest number of civilian firearms\")"
   ]
  },
  {
   "cell_type": "code",
   "execution_count": 62,
   "metadata": {},
   "outputs": [
    {
     "name": "stderr",
     "output_type": "stream",
     "text": [
      "/usr/local/Anaconda3-5.0.0-Linux-x86_64/envs/PUI2016_Python3/lib/python3.5/site-packages/matplotlib/font_manager.py:1316: UserWarning: findfont: Font family ['sans-serif'] not found. Falling back to DejaVu Sans\n",
      "  (prop.get_family(), self.defaultFamily[fontext]))\n"
     ]
    },
    {
     "data": {
      "image/png": "[encoded data removed]",
      "text/plain": [
       "<matplotlib.figure.Figure at 0x7f8ba973a3c8>"
      ]
     },
     "metadata": {},
     "output_type": "display_data"
    },
    {
     "name": "stdout",
     "output_type": "stream",
     "text": [
      " the number of homicides by fire arm vs the number of civilian firearms, errors represent Poisson statistics.\n",
      "The datapoint to the top right of the plot is the USA, which has both the highest number of civilian firearms and the highest number of homicides by fire arm\n"
     ]
    }
   ],
   "source": [
    "# without errorbars\n",
    "fig = pl.figure(figsize=(10,5)) \n",
    "ax = fig.add_subplot(111)\n",
    "scatter1 = ax.scatter(df_[df_['Country Name'] != 'United States']['Average total all civilian firearms']/1e8, \n",
    "                      df_[df_['Country Name'] != 'United States']['Number of mass shootings'])\n",
    "scatter2 = ax.scatter(df_[df_['Country Name'] == 'United States']['Average total all civilian firearms']/1e8, \n",
    "                      df_[df_['Country Name'] == 'United States']['Number of mass shootings'], c='red')\n",
    "ax.set_xlabel(\"the number of civilian firearms\")\n",
    "ax.set_ylabel(\"the number of homicides by fire arm\")\n",
    "ax.set_ylim()\n",
    "pl.show()\n",
    "print (\" the number of homicides by fire arm vs the number of civilian firearms, \" + \n",
    "       \"errors represent Poisson statistics.\\n\" + \n",
    "       \"The datapoint to the top right of the plot is the USA, \" + \n",
    "       \"which has both the highest number of civilian firearms and the highest number of homicides by fire arm\")"
   ]
  },
  {
   "cell_type": "markdown",
   "metadata": {
    "run_control": {
     "frozen": false,
     "read_only": false
    }
   },
   "source": [
    "# Modeling\n",
    "\n",
    "## fit a line to the Number of mass shootings  per person as a function of Average total all civilian firearms per person. \n",
    "Before you do it it is a good idea to make sure that both quantities are roughly of the same order of magnitude (unity). (You can simply divide by the order of magnitude of the mean of the sample to obtain this). Use\n",
    "\n",
    "    - statsmodels OLS\n",
    "    - statsmodels WLS\n",
    "    - seaborn\n",
    "    - choose one of\n",
    "        -- creating a function that calculates the residuals and minimizing that function\n",
    "        -- analytical solution http://mathworld.wolfram.com/LeastSquaresFitting.html\n",
    "        -- numpy.polyfit() - https://docs.scipy.org/doc/numpy-1.13.0/reference/generated/numpy.polyfit.html\n",
    "    \n",
    "\n",
    "WLS: that is the weighted square fit. The statsmodel package WLS function allows you to take the uncertainties of each data point into account when you fit your model. It takes the parameter weights, which is the inverse of your errors:\n",
    "weights = 1.0/df.yerror\n",
    "Notice that \n",
    "    a - sqrt(0) = 0\n",
    "    b - 1/0 = infinity\n",
    "    c - you cannot have weight that are infinity in your fit. Please come up with a solution and justify it.\n",
    "\n",
    "\n",
    "the latter three you can learn about in this example: https://github.com/fedhere/PUI2017_fb55/blob/master/Lab5_fb55/genderIncomeBias.ipynb\n",
    "Since we did not discuss these, I will add some notes to the repo in the afternoon.\n",
    "\n",
    "Use the seaborn python package built in regression function  to plot the regression confidence intervals. \n",
    "\n",
    "import seaborn  as sns\n",
    "sns.regplot(x=\"x\", y=\"y\", data=df);\n",
    "\n",
    "\n"
   ]
  },
  {
   "cell_type": "code",
   "execution_count": 32,
   "metadata": {
    "ExecuteTime": {
     "end_time": "2017-10-12T16:35:12.472517",
     "start_time": "2017-10-12T16:35:11.345016"
    },
    "run_control": {
     "frozen": false,
     "read_only": false
    }
   },
   "outputs": [
    {
     "name": "stderr",
     "output_type": "stream",
     "text": [
      "/usr/local/Anaconda3-5.0.0-Linux-x86_64/envs/PUI2016_Python3/lib/python3.5/site-packages/matplotlib/font_manager.py:1316: UserWarning: findfont: Font family ['sans-serif'] not found. Falling back to DejaVu Sans\n",
      "  (prop.get_family(), self.defaultFamily[fontext]))\n"
     ]
    },
    {
     "data": {
      "image/png": "[encoded data removed]",
      "text/plain": [
       "<matplotlib.figure.Figure at 0x7f8ba958c668>"
      ]
     },
     "metadata": {},
     "output_type": "display_data"
    }
   ],
   "source": [
    "df_['Average_civilian_firearms_pp'] = df_['Average_civilian_firearms_pp']*1000\n",
    "pl.scatter(df_['Average_civilian_firearms_pp'], df_['shootingspp'])\n",
    "pl.show()"
   ]
  },
  {
   "cell_type": "code",
   "execution_count": 33,
   "metadata": {},
   "outputs": [
    {
     "data": {
      "text/html": [
       "<div>\n",
       "<table border=\"1\" class=\"dataframe\">\n",
       "  <thead>\n",
       "    <tr style=\"text-align: right;\">\n",
       "      <th></th>\n",
       "      <th>pop</th>\n",
       "      <th>Country Name</th>\n",
       "      <th>gdp</th>\n",
       "      <th>Number of homicides by firearm</th>\n",
       "      <th>Average total all civilian firearms</th>\n",
       "      <th>Country</th>\n",
       "      <th>Guns per 100 inhabitants</th>\n",
       "      <th>Number of mass shootings</th>\n",
       "      <th>shootingspp</th>\n",
       "      <th>gdpspp</th>\n",
       "      <th>Average_civilian_firearms_pp</th>\n",
       "      <th>homipp</th>\n",
       "    </tr>\n",
       "  </thead>\n",
       "  <tbody>\n",
       "    <tr>\n",
       "      <th>0</th>\n",
       "      <td>22742475.0</td>\n",
       "      <td>Australia</td>\n",
       "      <td>1.543411e+12</td>\n",
       "      <td>30.0</td>\n",
       "      <td>3050000.0</td>\n",
       "      <td>Australia</td>\n",
       "      <td>15.0</td>\n",
       "      <td>4</td>\n",
       "      <td>0.000176</td>\n",
       "      <td>67864.689862</td>\n",
       "      <td>134.110294</td>\n",
       "      <td>0.001319</td>\n",
       "    </tr>\n",
       "    <tr>\n",
       "      <th>1</th>\n",
       "      <td>8429991.0</td>\n",
       "      <td>Austria</td>\n",
       "      <td>4.094252e+11</td>\n",
       "      <td>18.0</td>\n",
       "      <td>2500000.0</td>\n",
       "      <td>Austria</td>\n",
       "      <td>30.4</td>\n",
       "      <td>1</td>\n",
       "      <td>0.000119</td>\n",
       "      <td>48567.695286</td>\n",
       "      <td>296.560222</td>\n",
       "      <td>0.002135</td>\n",
       "    </tr>\n",
       "    <tr>\n",
       "      <th>2</th>\n",
       "      <td>11128246.0</td>\n",
       "      <td>Belgium</td>\n",
       "      <td>4.978842e+11</td>\n",
       "      <td>70.0</td>\n",
       "      <td>1800000.0</td>\n",
       "      <td>Belgium</td>\n",
       "      <td>17.2</td>\n",
       "      <td>2</td>\n",
       "      <td>0.000180</td>\n",
       "      <td>44740.583248</td>\n",
       "      <td>161.750558</td>\n",
       "      <td>0.006290</td>\n",
       "    </tr>\n",
       "    <tr>\n",
       "      <th>3</th>\n",
       "      <td>34750545.0</td>\n",
       "      <td>Canada</td>\n",
       "      <td>1.824289e+12</td>\n",
       "      <td>173.0</td>\n",
       "      <td>9950000.0</td>\n",
       "      <td>Canada</td>\n",
       "      <td>30.8</td>\n",
       "      <td>4</td>\n",
       "      <td>0.000115</td>\n",
       "      <td>52496.694870</td>\n",
       "      <td>286.326445</td>\n",
       "      <td>0.004978</td>\n",
       "    </tr>\n",
       "    <tr>\n",
       "      <th>4</th>\n",
       "      <td>7996861.0</td>\n",
       "      <td>Switzerland</td>\n",
       "      <td>6.680436e+11</td>\n",
       "      <td>57.0</td>\n",
       "      <td>3400000.0</td>\n",
       "      <td>Switzerland</td>\n",
       "      <td>45.7</td>\n",
       "      <td>2</td>\n",
       "      <td>0.000250</td>\n",
       "      <td>83538.230078</td>\n",
       "      <td>425.166825</td>\n",
       "      <td>0.007128</td>\n",
       "    </tr>\n",
       "  </tbody>\n",
       "</table>\n",
       "</div>"
      ],
      "text/plain": [
       "          pop Country Name           gdp  Number of homicides by firearm  \\\n",
       "0  22742475.0    Australia  1.543411e+12                            30.0   \n",
       "1   8429991.0      Austria  4.094252e+11                            18.0   \n",
       "2  11128246.0      Belgium  4.978842e+11                            70.0   \n",
       "3  34750545.0       Canada  1.824289e+12                           173.0   \n",
       "4   7996861.0  Switzerland  6.680436e+11                            57.0   \n",
       "\n",
       "   Average total all civilian firearms      Country  Guns per 100 inhabitants  \\\n",
       "0                            3050000.0    Australia                      15.0   \n",
       "1                            2500000.0      Austria                      30.4   \n",
       "2                            1800000.0      Belgium                      17.2   \n",
       "3                            9950000.0       Canada                      30.8   \n",
       "4                            3400000.0  Switzerland                      45.7   \n",
       "\n",
       "   Number of mass shootings  shootingspp        gdpspp  \\\n",
       "0                         4     0.000176  67864.689862   \n",
       "1                         1     0.000119  48567.695286   \n",
       "2                         2     0.000180  44740.583248   \n",
       "3                         4     0.000115  52496.694870   \n",
       "4                         2     0.000250  83538.230078   \n",
       "\n",
       "   Average_civilian_firearms_pp    homipp  \n",
       "0                    134.110294  0.001319  \n",
       "1                    296.560222  0.002135  \n",
       "2                    161.750558  0.006290  \n",
       "3                    286.326445  0.004978  \n",
       "4                    425.166825  0.007128  "
      ]
     },
     "execution_count": 33,
     "metadata": {},
     "output_type": "execute_result"
    }
   ],
   "source": [
    "df_.head()"
   ]
  },
  {
   "cell_type": "code",
   "execution_count": 34,
   "metadata": {},
   "outputs": [
    {
     "data": {
      "text/html": [
       "<div>\n",
       "<table border=\"1\" class=\"dataframe\">\n",
       "  <thead>\n",
       "    <tr style=\"text-align: right;\">\n",
       "      <th></th>\n",
       "      <th>pop</th>\n",
       "      <th>Country Name</th>\n",
       "      <th>gdp</th>\n",
       "      <th>Number of homicides by firearm</th>\n",
       "      <th>Average total all civilian firearms</th>\n",
       "      <th>Country</th>\n",
       "      <th>Guns per 100 inhabitants</th>\n",
       "      <th>Number of mass shootings</th>\n",
       "      <th>shootingspp</th>\n",
       "      <th>gdpspp</th>\n",
       "      <th>Average_civilian_firearms_pp</th>\n",
       "      <th>homipp</th>\n",
       "    </tr>\n",
       "  </thead>\n",
       "  <tbody>\n",
       "    <tr>\n",
       "      <th>0</th>\n",
       "      <td>22742475.0</td>\n",
       "      <td>Australia</td>\n",
       "      <td>1.543411e+12</td>\n",
       "      <td>30.0</td>\n",
       "      <td>3050000.0</td>\n",
       "      <td>Australia</td>\n",
       "      <td>15.0</td>\n",
       "      <td>4</td>\n",
       "      <td>1.758824</td>\n",
       "      <td>67864.689862</td>\n",
       "      <td>134.110294</td>\n",
       "      <td>0.001319</td>\n",
       "    </tr>\n",
       "    <tr>\n",
       "      <th>1</th>\n",
       "      <td>8429991.0</td>\n",
       "      <td>Austria</td>\n",
       "      <td>4.094252e+11</td>\n",
       "      <td>18.0</td>\n",
       "      <td>2500000.0</td>\n",
       "      <td>Austria</td>\n",
       "      <td>30.4</td>\n",
       "      <td>1</td>\n",
       "      <td>1.186241</td>\n",
       "      <td>48567.695286</td>\n",
       "      <td>296.560222</td>\n",
       "      <td>0.002135</td>\n",
       "    </tr>\n",
       "    <tr>\n",
       "      <th>2</th>\n",
       "      <td>11128246.0</td>\n",
       "      <td>Belgium</td>\n",
       "      <td>4.978842e+11</td>\n",
       "      <td>70.0</td>\n",
       "      <td>1800000.0</td>\n",
       "      <td>Belgium</td>\n",
       "      <td>17.2</td>\n",
       "      <td>2</td>\n",
       "      <td>1.797228</td>\n",
       "      <td>44740.583248</td>\n",
       "      <td>161.750558</td>\n",
       "      <td>0.006290</td>\n",
       "    </tr>\n",
       "    <tr>\n",
       "      <th>3</th>\n",
       "      <td>34750545.0</td>\n",
       "      <td>Canada</td>\n",
       "      <td>1.824289e+12</td>\n",
       "      <td>173.0</td>\n",
       "      <td>9950000.0</td>\n",
       "      <td>Canada</td>\n",
       "      <td>30.8</td>\n",
       "      <td>4</td>\n",
       "      <td>1.151061</td>\n",
       "      <td>52496.694870</td>\n",
       "      <td>286.326445</td>\n",
       "      <td>0.004978</td>\n",
       "    </tr>\n",
       "    <tr>\n",
       "      <th>4</th>\n",
       "      <td>7996861.0</td>\n",
       "      <td>Switzerland</td>\n",
       "      <td>6.680436e+11</td>\n",
       "      <td>57.0</td>\n",
       "      <td>3400000.0</td>\n",
       "      <td>Switzerland</td>\n",
       "      <td>45.7</td>\n",
       "      <td>2</td>\n",
       "      <td>2.500981</td>\n",
       "      <td>83538.230078</td>\n",
       "      <td>425.166825</td>\n",
       "      <td>0.007128</td>\n",
       "    </tr>\n",
       "  </tbody>\n",
       "</table>\n",
       "</div>"
      ],
      "text/plain": [
       "          pop Country Name           gdp  Number of homicides by firearm  \\\n",
       "0  22742475.0    Australia  1.543411e+12                            30.0   \n",
       "1   8429991.0      Austria  4.094252e+11                            18.0   \n",
       "2  11128246.0      Belgium  4.978842e+11                            70.0   \n",
       "3  34750545.0       Canada  1.824289e+12                           173.0   \n",
       "4   7996861.0  Switzerland  6.680436e+11                            57.0   \n",
       "\n",
       "   Average total all civilian firearms      Country  Guns per 100 inhabitants  \\\n",
       "0                            3050000.0    Australia                      15.0   \n",
       "1                            2500000.0      Austria                      30.4   \n",
       "2                            1800000.0      Belgium                      17.2   \n",
       "3                            9950000.0       Canada                      30.8   \n",
       "4                            3400000.0  Switzerland                      45.7   \n",
       "\n",
       "   Number of mass shootings  shootingspp        gdpspp  \\\n",
       "0                         4     1.758824  67864.689862   \n",
       "1                         1     1.186241  48567.695286   \n",
       "2                         2     1.797228  44740.583248   \n",
       "3                         4     1.151061  52496.694870   \n",
       "4                         2     2.500981  83538.230078   \n",
       "\n",
       "   Average_civilian_firearms_pp    homipp  \n",
       "0                    134.110294  0.001319  \n",
       "1                    296.560222  0.002135  \n",
       "2                    161.750558  0.006290  \n",
       "3                    286.326445  0.004978  \n",
       "4                    425.166825  0.007128  "
      ]
     },
     "execution_count": 34,
     "metadata": {},
     "output_type": "execute_result"
    }
   ],
   "source": [
    "# make sure that both quantities are roughly of the same order of magnitude (unity)\n",
    "df_.shootingspp = df_.shootingspp*1e4\n",
    "df_.head()"
   ]
  },
  {
   "cell_type": "code",
   "execution_count": 35,
   "metadata": {},
   "outputs": [
    {
     "data": {
      "text/html": [
       "<div>\n",
       "<table border=\"1\" class=\"dataframe\">\n",
       "  <thead>\n",
       "    <tr style=\"text-align: right;\">\n",
       "      <th></th>\n",
       "      <th>pop</th>\n",
       "      <th>Country Name</th>\n",
       "      <th>gdp</th>\n",
       "      <th>Number of homicides by firearm</th>\n",
       "      <th>Average total all civilian firearms</th>\n",
       "      <th>Country</th>\n",
       "      <th>Guns per 100 inhabitants</th>\n",
       "      <th>Number of mass shootings</th>\n",
       "      <th>shootingspp</th>\n",
       "      <th>gdpspp</th>\n",
       "      <th>Average_civilian_firearms_pp</th>\n",
       "      <th>homipp</th>\n",
       "    </tr>\n",
       "  </thead>\n",
       "  <tbody>\n",
       "    <tr>\n",
       "      <th>0</th>\n",
       "      <td>22742475.0</td>\n",
       "      <td>Australia</td>\n",
       "      <td>1.543411e+12</td>\n",
       "      <td>30.0</td>\n",
       "      <td>3050000.0</td>\n",
       "      <td>Australia</td>\n",
       "      <td>15.0</td>\n",
       "      <td>4</td>\n",
       "      <td>1.758824</td>\n",
       "      <td>67864.689862</td>\n",
       "      <td>0.134110</td>\n",
       "      <td>0.001319</td>\n",
       "    </tr>\n",
       "    <tr>\n",
       "      <th>1</th>\n",
       "      <td>8429991.0</td>\n",
       "      <td>Austria</td>\n",
       "      <td>4.094252e+11</td>\n",
       "      <td>18.0</td>\n",
       "      <td>2500000.0</td>\n",
       "      <td>Austria</td>\n",
       "      <td>30.4</td>\n",
       "      <td>1</td>\n",
       "      <td>1.186241</td>\n",
       "      <td>48567.695286</td>\n",
       "      <td>0.296560</td>\n",
       "      <td>0.002135</td>\n",
       "    </tr>\n",
       "    <tr>\n",
       "      <th>2</th>\n",
       "      <td>11128246.0</td>\n",
       "      <td>Belgium</td>\n",
       "      <td>4.978842e+11</td>\n",
       "      <td>70.0</td>\n",
       "      <td>1800000.0</td>\n",
       "      <td>Belgium</td>\n",
       "      <td>17.2</td>\n",
       "      <td>2</td>\n",
       "      <td>1.797228</td>\n",
       "      <td>44740.583248</td>\n",
       "      <td>0.161751</td>\n",
       "      <td>0.006290</td>\n",
       "    </tr>\n",
       "    <tr>\n",
       "      <th>3</th>\n",
       "      <td>34750545.0</td>\n",
       "      <td>Canada</td>\n",
       "      <td>1.824289e+12</td>\n",
       "      <td>173.0</td>\n",
       "      <td>9950000.0</td>\n",
       "      <td>Canada</td>\n",
       "      <td>30.8</td>\n",
       "      <td>4</td>\n",
       "      <td>1.151061</td>\n",
       "      <td>52496.694870</td>\n",
       "      <td>0.286326</td>\n",
       "      <td>0.004978</td>\n",
       "    </tr>\n",
       "    <tr>\n",
       "      <th>4</th>\n",
       "      <td>7996861.0</td>\n",
       "      <td>Switzerland</td>\n",
       "      <td>6.680436e+11</td>\n",
       "      <td>57.0</td>\n",
       "      <td>3400000.0</td>\n",
       "      <td>Switzerland</td>\n",
       "      <td>45.7</td>\n",
       "      <td>2</td>\n",
       "      <td>2.500981</td>\n",
       "      <td>83538.230078</td>\n",
       "      <td>0.425167</td>\n",
       "      <td>0.007128</td>\n",
       "    </tr>\n",
       "  </tbody>\n",
       "</table>\n",
       "</div>"
      ],
      "text/plain": [
       "          pop Country Name           gdp  Number of homicides by firearm  \\\n",
       "0  22742475.0    Australia  1.543411e+12                            30.0   \n",
       "1   8429991.0      Austria  4.094252e+11                            18.0   \n",
       "2  11128246.0      Belgium  4.978842e+11                            70.0   \n",
       "3  34750545.0       Canada  1.824289e+12                           173.0   \n",
       "4   7996861.0  Switzerland  6.680436e+11                            57.0   \n",
       "\n",
       "   Average total all civilian firearms      Country  Guns per 100 inhabitants  \\\n",
       "0                            3050000.0    Australia                      15.0   \n",
       "1                            2500000.0      Austria                      30.4   \n",
       "2                            1800000.0      Belgium                      17.2   \n",
       "3                            9950000.0       Canada                      30.8   \n",
       "4                            3400000.0  Switzerland                      45.7   \n",
       "\n",
       "   Number of mass shootings  shootingspp        gdpspp  \\\n",
       "0                         4     1.758824  67864.689862   \n",
       "1                         1     1.186241  48567.695286   \n",
       "2                         2     1.797228  44740.583248   \n",
       "3                         4     1.151061  52496.694870   \n",
       "4                         2     2.500981  83538.230078   \n",
       "\n",
       "   Average_civilian_firearms_pp    homipp  \n",
       "0                      0.134110  0.001319  \n",
       "1                      0.296560  0.002135  \n",
       "2                      0.161751  0.006290  \n",
       "3                      0.286326  0.004978  \n",
       "4                      0.425167  0.007128  "
      ]
     },
     "execution_count": 35,
     "metadata": {},
     "output_type": "execute_result"
    }
   ],
   "source": [
    "df_.Average_civilian_firearms_pp = df_.Average_civilian_firearms_pp/1e3\n",
    "df_.head()"
   ]
  },
  {
   "cell_type": "code",
   "execution_count": 36,
   "metadata": {},
   "outputs": [
    {
     "name": "stderr",
     "output_type": "stream",
     "text": [
      "/usr/local/Anaconda3-5.0.0-Linux-x86_64/envs/PUI2016_Python3/lib/python3.5/site-packages/matplotlib/font_manager.py:1316: UserWarning: findfont: Font family ['sans-serif'] not found. Falling back to DejaVu Sans\n",
      "  (prop.get_family(), self.defaultFamily[fontext]))\n"
     ]
    },
    {
     "data": {
      "image/png": "[encoded data removed]",
      "text/plain": [
       "<matplotlib.figure.Figure at 0x7f8ba65d5940>"
      ]
     },
     "metadata": {},
     "output_type": "display_data"
    }
   ],
   "source": [
    "pl.scatter(df_['Average_civilian_firearms_pp'], df_['shootingspp'])\n",
    "pl.show()"
   ]
  },
  {
   "cell_type": "code",
   "execution_count": 37,
   "metadata": {},
   "outputs": [
    {
     "data": {
      "text/html": [
       "<table class=\"simpletable\">\n",
       "<caption>OLS Regression Results</caption>\n",
       "<tr>\n",
       "  <th>Dep. Variable:</th>       <td>shootingspp</td>   <th>  R-squared:         </th> <td>   0.192</td>\n",
       "</tr>\n",
       "<tr>\n",
       "  <th>Model:</th>                   <td>OLS</td>       <th>  Adj. R-squared:    </th> <td>   0.153</td>\n",
       "</tr>\n",
       "<tr>\n",
       "  <th>Method:</th>             <td>Least Squares</td>  <th>  F-statistic:       </th> <td>   4.981</td>\n",
       "</tr>\n",
       "<tr>\n",
       "  <th>Date:</th>             <td>Wed, 14 Nov 2018</td> <th>  Prob (F-statistic):</th>  <td>0.0367</td> \n",
       "</tr>\n",
       "<tr>\n",
       "  <th>Time:</th>                 <td>21:19:33</td>     <th>  Log-Likelihood:    </th> <td> -40.676</td>\n",
       "</tr>\n",
       "<tr>\n",
       "  <th>No. Observations:</th>      <td>    23</td>      <th>  AIC:               </th> <td>   85.35</td>\n",
       "</tr>\n",
       "<tr>\n",
       "  <th>Df Residuals:</th>          <td>    21</td>      <th>  BIC:               </th> <td>   87.62</td>\n",
       "</tr>\n",
       "<tr>\n",
       "  <th>Df Model:</th>              <td>     1</td>      <th>                     </th>     <td> </td>   \n",
       "</tr>\n",
       "<tr>\n",
       "  <th>Covariance Type:</th>      <td>nonrobust</td>    <th>                     </th>     <td> </td>   \n",
       "</tr>\n",
       "</table>\n",
       "<table class=\"simpletable\">\n",
       "<tr>\n",
       "                <td></td>                  <th>coef</th>     <th>std err</th>      <th>t</th>      <th>P>|t|</th> <th>[95.0% Conf. Int.]</th> \n",
       "</tr>\n",
       "<tr>\n",
       "  <th>const</th>                        <td>    0.3684</td> <td>    0.497</td> <td>    0.742</td> <td> 0.467</td> <td>   -0.665     1.402</td>\n",
       "</tr>\n",
       "<tr>\n",
       "  <th>Average_civilian_firearms_pp</th> <td>    3.8373</td> <td>    1.719</td> <td>    2.232</td> <td> 0.037</td> <td>    0.262     7.413</td>\n",
       "</tr>\n",
       "</table>\n",
       "<table class=\"simpletable\">\n",
       "<tr>\n",
       "  <th>Omnibus:</th>       <td>34.558</td> <th>  Durbin-Watson:     </th> <td>   1.860</td>\n",
       "</tr>\n",
       "<tr>\n",
       "  <th>Prob(Omnibus):</th> <td> 0.000</td> <th>  Jarque-Bera (JB):  </th> <td>  88.760</td>\n",
       "</tr>\n",
       "<tr>\n",
       "  <th>Skew:</th>          <td> 2.666</td> <th>  Prob(JB):          </th> <td>5.32e-20</td>\n",
       "</tr>\n",
       "<tr>\n",
       "  <th>Kurtosis:</th>      <td>11.012</td> <th>  Cond. No.          </th> <td>    5.85</td>\n",
       "</tr>\n",
       "</table>"
      ],
      "text/plain": [
       "<class 'statsmodels.iolib.summary.Summary'>\n",
       "\"\"\"\n",
       "                            OLS Regression Results                            \n",
       "==============================================================================\n",
       "Dep. Variable:            shootingspp   R-squared:                       0.192\n",
       "Model:                            OLS   Adj. R-squared:                  0.153\n",
       "Method:                 Least Squares   F-statistic:                     4.981\n",
       "Date:                Wed, 14 Nov 2018   Prob (F-statistic):             0.0367\n",
       "Time:                        21:19:33   Log-Likelihood:                -40.676\n",
       "No. Observations:                  23   AIC:                             85.35\n",
       "Df Residuals:                      21   BIC:                             87.62\n",
       "Df Model:                           1                                         \n",
       "Covariance Type:            nonrobust                                         \n",
       "================================================================================================\n",
       "                                   coef    std err          t      P>|t|      [95.0% Conf. Int.]\n",
       "------------------------------------------------------------------------------------------------\n",
       "const                            0.3684      0.497      0.742      0.467        -0.665     1.402\n",
       "Average_civilian_firearms_pp     3.8373      1.719      2.232      0.037         0.262     7.413\n",
       "==============================================================================\n",
       "Omnibus:                       34.558   Durbin-Watson:                   1.860\n",
       "Prob(Omnibus):                  0.000   Jarque-Bera (JB):               88.760\n",
       "Skew:                           2.666   Prob(JB):                     5.32e-20\n",
       "Kurtosis:                      11.012   Cond. No.                         5.85\n",
       "==============================================================================\n",
       "\n",
       "Warnings:\n",
       "[1] Standard Errors assume that the covariance matrix of the errors is correctly specified.\n",
       "\"\"\""
      ]
     },
     "execution_count": 37,
     "metadata": {},
     "output_type": "execute_result"
    }
   ],
   "source": [
    "# statsmodels OLS\n",
    "mod1 = sm.OLS(df_.shootingspp, sm.add_constant(df_.Average_civilian_firearms_pp)).fit()\n",
    "mod1.summary()"
   ]
  },
  {
   "cell_type": "code",
   "execution_count": 38,
   "metadata": {},
   "outputs": [
    {
     "data": {
      "text/plain": [
       "<matplotlib.legend.Legend at 0x7f8ba95365c0>"
      ]
     },
     "execution_count": 38,
     "metadata": {},
     "output_type": "execute_result"
    },
    {
     "name": "stderr",
     "output_type": "stream",
     "text": [
      "/usr/local/Anaconda3-5.0.0-Linux-x86_64/envs/PUI2016_Python3/lib/python3.5/site-packages/matplotlib/font_manager.py:1316: UserWarning: findfont: Font family ['sans-serif'] not found. Falling back to DejaVu Sans\n",
      "  (prop.get_family(), self.defaultFamily[fontext]))\n"
     ]
    },
    {
     "data": {
      "image/png": "[encoded data removed]",
      "text/plain": [
       "<matplotlib.figure.Figure at 0x7f8ba665a668>"
      ]
     },
     "metadata": {},
     "output_type": "display_data"
    }
   ],
   "source": [
    "## use OLS fit a line to data\n",
    "fig = pl.figure(figsize=(10,10))\n",
    "ax = fig.add_subplot(111)\n",
    "ax.scatter(df_.Average_civilian_firearms_pp, df_.shootingspp, label = \"original data\")\n",
    "ax.errorbar(df_.Average_civilian_firearms_pp, df_.shootingspp, \n",
    "            yerr=np.sqrt(df_.shootingspp * 1.0), fmt = '.')\n",
    "ax.plot(df_.Average_civilian_firearms_pp, mod1.predict(sm.add_constant(df_.Average_civilian_firearms_pp)), \n",
    "        color='k', label=\"use OLS to fit a line to data\")\n",
    "ax.set_xlabel('Average total all civilian firearms per person',fontsize=18)\n",
    "ax.set_ylabel('the Number of mass shootings per person',fontsize=18)\n",
    "ax.legend()"
   ]
  },
  {
   "cell_type": "markdown",
   "metadata": {},
   "source": [
    "## The plot is the number of mass shootings per person vs Average total all civilian firearms per person, and use OLS to fit a line to data."
   ]
  },
  {
   "cell_type": "code",
   "execution_count": 39,
   "metadata": {},
   "outputs": [
    {
     "data": {
      "text/html": [
       "<table class=\"simpletable\">\n",
       "<caption>WLS Regression Results</caption>\n",
       "<tr>\n",
       "  <th>Dep. Variable:</th>       <td>shootingspp</td>   <th>  R-squared:         </th> <td>   0.444</td>\n",
       "</tr>\n",
       "<tr>\n",
       "  <th>Model:</th>                   <td>WLS</td>       <th>  Adj. R-squared:    </th> <td>   0.418</td>\n",
       "</tr>\n",
       "<tr>\n",
       "  <th>Method:</th>             <td>Least Squares</td>  <th>  F-statistic:       </th> <td>   16.78</td>\n",
       "</tr>\n",
       "<tr>\n",
       "  <th>Date:</th>             <td>Wed, 14 Nov 2018</td> <th>  Prob (F-statistic):</th> <td>0.000516</td>\n",
       "</tr>\n",
       "<tr>\n",
       "  <th>Time:</th>                 <td>21:19:33</td>     <th>  Log-Likelihood:    </th> <td> -27.373</td>\n",
       "</tr>\n",
       "<tr>\n",
       "  <th>No. Observations:</th>      <td>    23</td>      <th>  AIC:               </th> <td>   58.75</td>\n",
       "</tr>\n",
       "<tr>\n",
       "  <th>Df Residuals:</th>          <td>    21</td>      <th>  BIC:               </th> <td>   61.02</td>\n",
       "</tr>\n",
       "<tr>\n",
       "  <th>Df Model:</th>              <td>     1</td>      <th>                     </th>     <td> </td>   \n",
       "</tr>\n",
       "<tr>\n",
       "  <th>Covariance Type:</th>      <td>nonrobust</td>    <th>                     </th>     <td> </td>   \n",
       "</tr>\n",
       "</table>\n",
       "<table class=\"simpletable\">\n",
       "<tr>\n",
       "                <td></td>                  <th>coef</th>     <th>std err</th>      <th>t</th>      <th>P>|t|</th> <th>[95.0% Conf. Int.]</th> \n",
       "</tr>\n",
       "<tr>\n",
       "  <th>const</th>                        <td>    0.1286</td> <td>    0.257</td> <td>    0.501</td> <td> 0.622</td> <td>   -0.405     0.662</td>\n",
       "</tr>\n",
       "<tr>\n",
       "  <th>Average_civilian_firearms_pp</th> <td>    4.1168</td> <td>    1.005</td> <td>    4.097</td> <td> 0.001</td> <td>    2.027     6.207</td>\n",
       "</tr>\n",
       "</table>\n",
       "<table class=\"simpletable\">\n",
       "<tr>\n",
       "  <th>Omnibus:</th>       <td> 3.375</td> <th>  Durbin-Watson:     </th> <td>   1.773</td>\n",
       "</tr>\n",
       "<tr>\n",
       "  <th>Prob(Omnibus):</th> <td> 0.185</td> <th>  Jarque-Bera (JB):  </th> <td>   2.735</td>\n",
       "</tr>\n",
       "<tr>\n",
       "  <th>Skew:</th>          <td> 0.828</td> <th>  Prob(JB):          </th> <td>   0.255</td>\n",
       "</tr>\n",
       "<tr>\n",
       "  <th>Kurtosis:</th>      <td> 2.669</td> <th>  Cond. No.          </th> <td>    6.56</td>\n",
       "</tr>\n",
       "</table>"
      ],
      "text/plain": [
       "<class 'statsmodels.iolib.summary.Summary'>\n",
       "\"\"\"\n",
       "                            WLS Regression Results                            \n",
       "==============================================================================\n",
       "Dep. Variable:            shootingspp   R-squared:                       0.444\n",
       "Model:                            WLS   Adj. R-squared:                  0.418\n",
       "Method:                 Least Squares   F-statistic:                     16.78\n",
       "Date:                Wed, 14 Nov 2018   Prob (F-statistic):           0.000516\n",
       "Time:                        21:19:33   Log-Likelihood:                -27.373\n",
       "No. Observations:                  23   AIC:                             58.75\n",
       "Df Residuals:                      21   BIC:                             61.02\n",
       "Df Model:                           1                                         \n",
       "Covariance Type:            nonrobust                                         \n",
       "================================================================================================\n",
       "                                   coef    std err          t      P>|t|      [95.0% Conf. Int.]\n",
       "------------------------------------------------------------------------------------------------\n",
       "const                            0.1286      0.257      0.501      0.622        -0.405     0.662\n",
       "Average_civilian_firearms_pp     4.1168      1.005      4.097      0.001         2.027     6.207\n",
       "==============================================================================\n",
       "Omnibus:                        3.375   Durbin-Watson:                   1.773\n",
       "Prob(Omnibus):                  0.185   Jarque-Bera (JB):                2.735\n",
       "Skew:                           0.828   Prob(JB):                        0.255\n",
       "Kurtosis:                       2.669   Cond. No.                         6.56\n",
       "==============================================================================\n",
       "\n",
       "Warnings:\n",
       "[1] Standard Errors assume that the covariance matrix of the errors is correctly specified.\n",
       "\"\"\""
      ]
     },
     "execution_count": 39,
     "metadata": {},
     "output_type": "execute_result"
    }
   ],
   "source": [
    "# statsmodels WLS: use reciprocal of residuals‘ absolute value as weight\n",
    "mod2 = sm.WLS(df_.shootingspp, sm.add_constant(df_.Average_civilian_firearms_pp), \n",
    "              weights=1/abs(mod1.resid)).fit()\n",
    "mod2.summary()"
   ]
  },
  {
   "cell_type": "code",
   "execution_count": 40,
   "metadata": {},
   "outputs": [
    {
     "data": {
      "text/plain": [
       "<matplotlib.legend.Legend at 0x7f8ba97439b0>"
      ]
     },
     "execution_count": 40,
     "metadata": {},
     "output_type": "execute_result"
    },
    {
     "name": "stderr",
     "output_type": "stream",
     "text": [
      "/usr/local/Anaconda3-5.0.0-Linux-x86_64/envs/PUI2016_Python3/lib/python3.5/site-packages/matplotlib/font_manager.py:1316: UserWarning: findfont: Font family ['sans-serif'] not found. Falling back to DejaVu Sans\n",
      "  (prop.get_family(), self.defaultFamily[fontext]))\n"
     ]
    },
    {
     "data": {
      "image/png": "[encoded data removed]",
      "text/plain": [
       "<matplotlib.figure.Figure at 0x7f8ba957df98>"
      ]
     },
     "metadata": {},
     "output_type": "display_data"
    }
   ],
   "source": [
    "## use WLS to fit a line\n",
    "fig = pl.figure(figsize=(10,10))\n",
    "ax = fig.add_subplot(111)\n",
    "ax.scatter(df_.Average_civilian_firearms_pp, df_.shootingspp, label = \"original data\")\n",
    "ax.errorbar(df_.Average_civilian_firearms_pp, df_.shootingspp, \n",
    "            yerr=np.sqrt(df_.shootingspp * 1.0), fmt = '.')\n",
    "ax.plot(df_.Average_civilian_firearms_pp, mod2.predict(sm.add_constant(df_.Average_civilian_firearms_pp)), \n",
    "        color='red', label=\"use WLS to fit a line to data\")\n",
    "ax.set_xlabel('Average total all civilian firearms per person',fontsize=18)\n",
    "ax.set_ylabel('the Number of mass shootings per person',fontsize=18)\n",
    "ax.legend()"
   ]
  },
  {
   "cell_type": "markdown",
   "metadata": {},
   "source": [
    "## The plot is the number of mass shootings per person vs Average total all civilian firearms per person, and use WLS to fit a line to data."
   ]
  },
  {
   "cell_type": "code",
   "execution_count": 41,
   "metadata": {},
   "outputs": [
    {
     "data": {
      "text/plain": [
       "<matplotlib.legend.Legend at 0x7f8ba667d550>"
      ]
     },
     "execution_count": 41,
     "metadata": {},
     "output_type": "execute_result"
    },
    {
     "name": "stderr",
     "output_type": "stream",
     "text": [
      "/usr/local/Anaconda3-5.0.0-Linux-x86_64/envs/PUI2016_Python3/lib/python3.5/site-packages/matplotlib/font_manager.py:1316: UserWarning: findfont: Font family ['sans-serif'] not found. Falling back to DejaVu Sans\n",
      "  (prop.get_family(), self.defaultFamily[fontext]))\n"
     ]
    },
    {
     "data": {
      "image/png": "[encoded data removed]",
      "text/plain": [
       "<matplotlib.figure.Figure at 0x7f8ba9709f28>"
      ]
     },
     "metadata": {},
     "output_type": "display_data"
    }
   ],
   "source": [
    "## use seaborn to fit a line\n",
    "fig = pl.figure(figsize=(10,10))\n",
    "ax = fig.add_subplot(111)\n",
    "ax.scatter(df_.Average_civilian_firearms_pp, df_.shootingspp, label = \"original data\")\n",
    "ax.errorbar(df_.Average_civilian_firearms_pp, df_.shootingspp, \n",
    "            yerr=np.sqrt(df_.shootingspp * 1.0), fmt = '.', label=\"errorbar\")\n",
    "sns.regplot(df_.Average_civilian_firearms_pp, df_.shootingspp, label=\"use seaborn to fit a line\")\n",
    "ax.set_xlabel('Average total all civilian firearms per person',fontsize=18)\n",
    "ax.set_ylabel('the Number of mass shootings per person',fontsize=18)\n",
    "ax.legend()"
   ]
  },
  {
   "cell_type": "code",
   "execution_count": 42,
   "metadata": {},
   "outputs": [],
   "source": [
    "coefficient, residuals = np.polyfit(df_.Average_civilian_firearms_pp, df_.shootingspp, deg=1)"
   ]
  },
  {
   "cell_type": "code",
   "execution_count": 43,
   "metadata": {},
   "outputs": [
    {
     "data": {
      "text/plain": [
       "<matplotlib.legend.Legend at 0x7f8ba665eeb8>"
      ]
     },
     "execution_count": 43,
     "metadata": {},
     "output_type": "execute_result"
    },
    {
     "name": "stderr",
     "output_type": "stream",
     "text": [
      "/usr/local/Anaconda3-5.0.0-Linux-x86_64/envs/PUI2016_Python3/lib/python3.5/site-packages/matplotlib/font_manager.py:1316: UserWarning: findfont: Font family ['sans-serif'] not found. Falling back to DejaVu Sans\n",
      "  (prop.get_family(), self.defaultFamily[fontext]))\n"
     ]
    },
    {
     "data": {
      "image/png": "[encoded data removed]",
      "text/plain": [
       "<matplotlib.figure.Figure at 0x7f8bab1be400>"
      ]
     },
     "metadata": {},
     "output_type": "display_data"
    }
   ],
   "source": [
    "fig = pl.figure(figsize=(10,10))\n",
    "ax = fig.add_subplot(111)\n",
    "ax.scatter(df_.Average_civilian_firearms_pp, df_.shootingspp, label = \"original data\")\n",
    "ax.errorbar(df_.Average_civilian_firearms_pp, df_.shootingspp, \n",
    "            yerr=np.sqrt(df_.shootingspp * 1.0), fmt = '.', label=\"errorbar\")\n",
    "pl.plot(df_.Average_civilian_firearms_pp, coefficient*df_.Average_civilian_firearms_pp+residuals, label=\"use polyfit to fit a line\")\n",
    "ax.set_xlabel('Average total all civilian firearms per person',fontsize=18)\n",
    "ax.set_ylabel('the Number of mass shootings per person',fontsize=18)\n",
    "ax.legend()"
   ]
  },
  {
   "cell_type": "code",
   "execution_count": 44,
   "metadata": {},
   "outputs": [
    {
     "data": {
      "text/plain": [
       "<matplotlib.legend.Legend at 0x7f8ba955d780>"
      ]
     },
     "execution_count": 44,
     "metadata": {},
     "output_type": "execute_result"
    },
    {
     "name": "stderr",
     "output_type": "stream",
     "text": [
      "/usr/local/Anaconda3-5.0.0-Linux-x86_64/envs/PUI2016_Python3/lib/python3.5/site-packages/matplotlib/font_manager.py:1316: UserWarning: findfont: Font family ['sans-serif'] not found. Falling back to DejaVu Sans\n",
      "  (prop.get_family(), self.defaultFamily[fontext]))\n"
     ]
    },
    {
     "data": {
      "image/png": "[encoded data removed]",
      "text/plain": [
       "<matplotlib.figure.Figure at 0x7f8ba6672780>"
      ]
     },
     "metadata": {},
     "output_type": "display_data"
    }
   ],
   "source": [
    "# integrate OLS,WLS,seaborn and polyfit to a figure\n",
    "fig = pl.figure(figsize=(10,10))\n",
    "ax = fig.add_subplot(111)\n",
    "ax.scatter(df_.Average_civilian_firearms_pp, df_.shootingspp, color='blue', label = \"original data\")\n",
    "ax.errorbar(df_.Average_civilian_firearms_pp, df_.shootingspp, \n",
    "            yerr=np.sqrt(df_.shootingspp * 1.0), fmt = '.', label=\"errorbar\")\n",
    "ax.plot(df_.Average_civilian_firearms_pp, mod1.predict(sm.add_constant(df_.Average_civilian_firearms_pp)), \n",
    "        color='black', label=\"use OLS to fit a line to data\")\n",
    "ax.plot(df_.Average_civilian_firearms_pp, mod2.predict(sm.add_constant(df_.Average_civilian_firearms_pp)), \n",
    "        color='red', label=\"use WLS to fit a line to data\")\n",
    "sns.regplot(df_.Average_civilian_firearms_pp, df_.shootingspp, color='magenta', label=\"use seaborn to fit a line\")\n",
    "pl.plot(df_.Average_civilian_firearms_pp, coefficient*df_.Average_civilian_firearms_pp+residuals, color='green', label=\"use polyfit to fit a line\")\n",
    "ax.set_xlabel('Average total all civilian firearms per person',fontsize=18)\n",
    "ax.set_ylabel('the Number of mass shootings per person',fontsize=18)\n",
    "ax.legend()"
   ]
  },
  {
   "cell_type": "markdown",
   "metadata": {
    "run_control": {
     "frozen": false,
     "read_only": false
    }
   },
   "source": [
    "## Outlier removal:\n",
    "The concept of outlier is actually rather sophisticated: a point can be an outlier in a context but not in another. If you want to remove outliers and try different fits, here is some info on how to remove data efficiently from a dataset \n",
    "    https://gist.github.com/fedhere/89db40a3c9a28335bf5a35d52a52c595"
   ]
  },
  {
   "cell_type": "code",
   "execution_count": 45,
   "metadata": {},
   "outputs": [
    {
     "data": {
      "text/html": [
       "<div>\n",
       "<table border=\"1\" class=\"dataframe\">\n",
       "  <thead>\n",
       "    <tr style=\"text-align: right;\">\n",
       "      <th></th>\n",
       "      <th>pop</th>\n",
       "      <th>Country Name</th>\n",
       "      <th>gdp</th>\n",
       "      <th>Number of homicides by firearm</th>\n",
       "      <th>Average total all civilian firearms</th>\n",
       "      <th>Country</th>\n",
       "      <th>Guns per 100 inhabitants</th>\n",
       "      <th>Number of mass shootings</th>\n",
       "      <th>shootingspp</th>\n",
       "      <th>gdpspp</th>\n",
       "      <th>Average_civilian_firearms_pp</th>\n",
       "      <th>homipp</th>\n",
       "    </tr>\n",
       "  </thead>\n",
       "  <tbody>\n",
       "    <tr>\n",
       "      <th>18</th>\n",
       "      <td>4408100.0</td>\n",
       "      <td>New Zealand</td>\n",
       "      <td>1.761929e+11</td>\n",
       "      <td>7.0</td>\n",
       "      <td>925000.0</td>\n",
       "      <td>New Zealand</td>\n",
       "      <td>22.6</td>\n",
       "      <td>3</td>\n",
       "      <td>6.805653</td>\n",
       "      <td>39970.256245</td>\n",
       "      <td>0.209841</td>\n",
       "      <td>0.001588</td>\n",
       "    </tr>\n",
       "  </tbody>\n",
       "</table>\n",
       "</div>"
      ],
      "text/plain": [
       "          pop Country Name           gdp  Number of homicides by firearm  \\\n",
       "18  4408100.0  New Zealand  1.761929e+11                             7.0   \n",
       "\n",
       "    Average total all civilian firearms      Country  \\\n",
       "18                             925000.0  New Zealand   \n",
       "\n",
       "    Guns per 100 inhabitants  Number of mass shootings  shootingspp  \\\n",
       "18                      22.6                         3     6.805653   \n",
       "\n",
       "          gdpspp  Average_civilian_firearms_pp    homipp  \n",
       "18  39970.256245                      0.209841  0.001588  "
      ]
     },
     "execution_count": 45,
     "metadata": {},
     "output_type": "execute_result"
    }
   ],
   "source": [
    "# shootingpp super large is New Zealand\n",
    "df_[df_['shootingspp']>6]"
   ]
  },
  {
   "cell_type": "code",
   "execution_count": 46,
   "metadata": {},
   "outputs": [
    {
     "data": {
      "text/html": [
       "<div>\n",
       "<table border=\"1\" class=\"dataframe\">\n",
       "  <thead>\n",
       "    <tr style=\"text-align: right;\">\n",
       "      <th></th>\n",
       "      <th>pop</th>\n",
       "      <th>Country Name</th>\n",
       "      <th>gdp</th>\n",
       "      <th>Number of homicides by firearm</th>\n",
       "      <th>Average total all civilian firearms</th>\n",
       "      <th>Country</th>\n",
       "      <th>Guns per 100 inhabitants</th>\n",
       "      <th>Number of mass shootings</th>\n",
       "      <th>shootingspp</th>\n",
       "      <th>gdpspp</th>\n",
       "      <th>Average_civilian_firearms_pp</th>\n",
       "      <th>homipp</th>\n",
       "    </tr>\n",
       "  </thead>\n",
       "  <tbody>\n",
       "    <tr>\n",
       "      <th>0</th>\n",
       "      <td>22742475.0</td>\n",
       "      <td>Australia</td>\n",
       "      <td>1.543411e+12</td>\n",
       "      <td>30.0</td>\n",
       "      <td>3050000.0</td>\n",
       "      <td>Australia</td>\n",
       "      <td>15.0</td>\n",
       "      <td>4</td>\n",
       "      <td>1.758824</td>\n",
       "      <td>67864.689862</td>\n",
       "      <td>0.134110</td>\n",
       "      <td>0.001319</td>\n",
       "    </tr>\n",
       "    <tr>\n",
       "      <th>1</th>\n",
       "      <td>8429991.0</td>\n",
       "      <td>Austria</td>\n",
       "      <td>4.094252e+11</td>\n",
       "      <td>18.0</td>\n",
       "      <td>2500000.0</td>\n",
       "      <td>Austria</td>\n",
       "      <td>30.4</td>\n",
       "      <td>1</td>\n",
       "      <td>1.186241</td>\n",
       "      <td>48567.695286</td>\n",
       "      <td>0.296560</td>\n",
       "      <td>0.002135</td>\n",
       "    </tr>\n",
       "    <tr>\n",
       "      <th>2</th>\n",
       "      <td>11128246.0</td>\n",
       "      <td>Belgium</td>\n",
       "      <td>4.978842e+11</td>\n",
       "      <td>70.0</td>\n",
       "      <td>1800000.0</td>\n",
       "      <td>Belgium</td>\n",
       "      <td>17.2</td>\n",
       "      <td>2</td>\n",
       "      <td>1.797228</td>\n",
       "      <td>44740.583248</td>\n",
       "      <td>0.161751</td>\n",
       "      <td>0.006290</td>\n",
       "    </tr>\n",
       "    <tr>\n",
       "      <th>3</th>\n",
       "      <td>34750545.0</td>\n",
       "      <td>Canada</td>\n",
       "      <td>1.824289e+12</td>\n",
       "      <td>173.0</td>\n",
       "      <td>9950000.0</td>\n",
       "      <td>Canada</td>\n",
       "      <td>30.8</td>\n",
       "      <td>4</td>\n",
       "      <td>1.151061</td>\n",
       "      <td>52496.694870</td>\n",
       "      <td>0.286326</td>\n",
       "      <td>0.004978</td>\n",
       "    </tr>\n",
       "    <tr>\n",
       "      <th>4</th>\n",
       "      <td>7996861.0</td>\n",
       "      <td>Switzerland</td>\n",
       "      <td>6.680436e+11</td>\n",
       "      <td>57.0</td>\n",
       "      <td>3400000.0</td>\n",
       "      <td>Switzerland</td>\n",
       "      <td>45.7</td>\n",
       "      <td>2</td>\n",
       "      <td>2.500981</td>\n",
       "      <td>83538.230078</td>\n",
       "      <td>0.425167</td>\n",
       "      <td>0.007128</td>\n",
       "    </tr>\n",
       "  </tbody>\n",
       "</table>\n",
       "</div>"
      ],
      "text/plain": [
       "          pop Country Name           gdp  Number of homicides by firearm  \\\n",
       "0  22742475.0    Australia  1.543411e+12                            30.0   \n",
       "1   8429991.0      Austria  4.094252e+11                            18.0   \n",
       "2  11128246.0      Belgium  4.978842e+11                            70.0   \n",
       "3  34750545.0       Canada  1.824289e+12                           173.0   \n",
       "4   7996861.0  Switzerland  6.680436e+11                            57.0   \n",
       "\n",
       "   Average total all civilian firearms      Country  Guns per 100 inhabitants  \\\n",
       "0                            3050000.0    Australia                      15.0   \n",
       "1                            2500000.0      Austria                      30.4   \n",
       "2                            1800000.0      Belgium                      17.2   \n",
       "3                            9950000.0       Canada                      30.8   \n",
       "4                            3400000.0  Switzerland                      45.7   \n",
       "\n",
       "   Number of mass shootings  shootingspp        gdpspp  \\\n",
       "0                         4     1.758824  67864.689862   \n",
       "1                         1     1.186241  48567.695286   \n",
       "2                         2     1.797228  44740.583248   \n",
       "3                         4     1.151061  52496.694870   \n",
       "4                         2     2.500981  83538.230078   \n",
       "\n",
       "   Average_civilian_firearms_pp    homipp  \n",
       "0                      0.134110  0.001319  \n",
       "1                      0.296560  0.002135  \n",
       "2                      0.161751  0.006290  \n",
       "3                      0.286326  0.004978  \n",
       "4                      0.425167  0.007128  "
      ]
     },
     "execution_count": 46,
     "metadata": {},
     "output_type": "execute_result"
    }
   ],
   "source": [
    "# remove USA and New zealand data \n",
    "## because New Zealand's shootingspp is super large and USA's firearms per person is very high\n",
    "df_without_outlier = df_[~((df_['Country Name'] == \"United States\") | (df_['Country Name'] == \"New Zealand\"))]\n",
    "df_without_outlier.head()"
   ]
  },
  {
   "cell_type": "code",
   "execution_count": 47,
   "metadata": {},
   "outputs": [
    {
     "name": "stderr",
     "output_type": "stream",
     "text": [
      "/usr/local/Anaconda3-5.0.0-Linux-x86_64/envs/PUI2016_Python3/lib/python3.5/site-packages/matplotlib/font_manager.py:1316: UserWarning: findfont: Font family ['sans-serif'] not found. Falling back to DejaVu Sans\n",
      "  (prop.get_family(), self.defaultFamily[fontext]))\n"
     ]
    },
    {
     "data": {
      "image/png": "[encoded data removed]",
      "text/plain": [
       "<matplotlib.figure.Figure at 0x7f8ba65c7cf8>"
      ]
     },
     "metadata": {},
     "output_type": "display_data"
    }
   ],
   "source": [
    "# after removing outlier, the scatter plot\n",
    "pl.scatter(df_without_outlier['Average_civilian_firearms_pp'], df_without_outlier['shootingspp'])\n",
    "pl.show()"
   ]
  },
  {
   "cell_type": "code",
   "execution_count": 48,
   "metadata": {},
   "outputs": [
    {
     "data": {
      "text/html": [
       "<table class=\"simpletable\">\n",
       "<caption>OLS Regression Results</caption>\n",
       "<tr>\n",
       "  <th>Dep. Variable:</th>       <td>shootingspp</td>   <th>  R-squared:         </th> <td>   0.525</td>\n",
       "</tr>\n",
       "<tr>\n",
       "  <th>Model:</th>                   <td>OLS</td>       <th>  Adj. R-squared:    </th> <td>   0.500</td>\n",
       "</tr>\n",
       "<tr>\n",
       "  <th>Method:</th>             <td>Least Squares</td>  <th>  F-statistic:       </th> <td>   21.02</td>\n",
       "</tr>\n",
       "<tr>\n",
       "  <th>Date:</th>             <td>Wed, 14 Nov 2018</td> <th>  Prob (F-statistic):</th> <td>0.000202</td>\n",
       "</tr>\n",
       "<tr>\n",
       "  <th>Time:</th>                 <td>21:19:35</td>     <th>  Log-Likelihood:    </th> <td> -22.679</td>\n",
       "</tr>\n",
       "<tr>\n",
       "  <th>No. Observations:</th>      <td>    21</td>      <th>  AIC:               </th> <td>   49.36</td>\n",
       "</tr>\n",
       "<tr>\n",
       "  <th>Df Residuals:</th>          <td>    19</td>      <th>  BIC:               </th> <td>   51.45</td>\n",
       "</tr>\n",
       "<tr>\n",
       "  <th>Df Model:</th>              <td>     1</td>      <th>                     </th>     <td> </td>   \n",
       "</tr>\n",
       "<tr>\n",
       "  <th>Covariance Type:</th>      <td>nonrobust</td>    <th>                     </th>     <td> </td>   \n",
       "</tr>\n",
       "</table>\n",
       "<table class=\"simpletable\">\n",
       "<tr>\n",
       "                <td></td>                  <th>coef</th>     <th>std err</th>      <th>t</th>      <th>P>|t|</th> <th>[95.0% Conf. Int.]</th> \n",
       "</tr>\n",
       "<tr>\n",
       "  <th>const</th>                        <td>   -0.2731</td> <td>    0.306</td> <td>   -0.894</td> <td> 0.383</td> <td>   -0.913     0.367</td>\n",
       "</tr>\n",
       "<tr>\n",
       "  <th>Average_civilian_firearms_pp</th> <td>    6.0230</td> <td>    1.314</td> <td>    4.585</td> <td> 0.000</td> <td>    3.274     8.772</td>\n",
       "</tr>\n",
       "</table>\n",
       "<table class=\"simpletable\">\n",
       "<tr>\n",
       "  <th>Omnibus:</th>       <td> 0.185</td> <th>  Durbin-Watson:     </th> <td>   1.838</td>\n",
       "</tr>\n",
       "<tr>\n",
       "  <th>Prob(Omnibus):</th> <td> 0.911</td> <th>  Jarque-Bera (JB):  </th> <td>   0.379</td>\n",
       "</tr>\n",
       "<tr>\n",
       "  <th>Skew:</th>          <td> 0.141</td> <th>  Prob(JB):          </th> <td>   0.828</td>\n",
       "</tr>\n",
       "<tr>\n",
       "  <th>Kurtosis:</th>      <td> 2.405</td> <th>  Cond. No.          </th> <td>    8.35</td>\n",
       "</tr>\n",
       "</table>"
      ],
      "text/plain": [
       "<class 'statsmodels.iolib.summary.Summary'>\n",
       "\"\"\"\n",
       "                            OLS Regression Results                            \n",
       "==============================================================================\n",
       "Dep. Variable:            shootingspp   R-squared:                       0.525\n",
       "Model:                            OLS   Adj. R-squared:                  0.500\n",
       "Method:                 Least Squares   F-statistic:                     21.02\n",
       "Date:                Wed, 14 Nov 2018   Prob (F-statistic):           0.000202\n",
       "Time:                        21:19:35   Log-Likelihood:                -22.679\n",
       "No. Observations:                  21   AIC:                             49.36\n",
       "Df Residuals:                      19   BIC:                             51.45\n",
       "Df Model:                           1                                         \n",
       "Covariance Type:            nonrobust                                         \n",
       "================================================================================================\n",
       "                                   coef    std err          t      P>|t|      [95.0% Conf. Int.]\n",
       "------------------------------------------------------------------------------------------------\n",
       "const                           -0.2731      0.306     -0.894      0.383        -0.913     0.367\n",
       "Average_civilian_firearms_pp     6.0230      1.314      4.585      0.000         3.274     8.772\n",
       "==============================================================================\n",
       "Omnibus:                        0.185   Durbin-Watson:                   1.838\n",
       "Prob(Omnibus):                  0.911   Jarque-Bera (JB):                0.379\n",
       "Skew:                           0.141   Prob(JB):                        0.828\n",
       "Kurtosis:                       2.405   Cond. No.                         8.35\n",
       "==============================================================================\n",
       "\n",
       "Warnings:\n",
       "[1] Standard Errors assume that the covariance matrix of the errors is correctly specified.\n",
       "\"\"\""
      ]
     },
     "execution_count": 48,
     "metadata": {},
     "output_type": "execute_result"
    }
   ],
   "source": [
    "# use OLS to fit data without outlier\n",
    "mod1 = sm.OLS(df_without_outlier.shootingspp, sm.add_constant(df_without_outlier.Average_civilian_firearms_pp)).fit()\n",
    "mod1.summary()"
   ]
  },
  {
   "cell_type": "code",
   "execution_count": 49,
   "metadata": {},
   "outputs": [
    {
     "data": {
      "text/html": [
       "<table class=\"simpletable\">\n",
       "<caption>WLS Regression Results</caption>\n",
       "<tr>\n",
       "  <th>Dep. Variable:</th>       <td>shootingspp</td>   <th>  R-squared:         </th> <td>   0.762</td>\n",
       "</tr>\n",
       "<tr>\n",
       "  <th>Model:</th>                   <td>WLS</td>       <th>  Adj. R-squared:    </th> <td>   0.750</td>\n",
       "</tr>\n",
       "<tr>\n",
       "  <th>Method:</th>             <td>Least Squares</td>  <th>  F-statistic:       </th> <td>   60.88</td>\n",
       "</tr>\n",
       "<tr>\n",
       "  <th>Date:</th>             <td>Wed, 14 Nov 2018</td> <th>  Prob (F-statistic):</th> <td>2.42e-07</td>\n",
       "</tr>\n",
       "<tr>\n",
       "  <th>Time:</th>                 <td>21:19:35</td>     <th>  Log-Likelihood:    </th> <td> -15.446</td>\n",
       "</tr>\n",
       "<tr>\n",
       "  <th>No. Observations:</th>      <td>    21</td>      <th>  AIC:               </th> <td>   34.89</td>\n",
       "</tr>\n",
       "<tr>\n",
       "  <th>Df Residuals:</th>          <td>    19</td>      <th>  BIC:               </th> <td>   36.98</td>\n",
       "</tr>\n",
       "<tr>\n",
       "  <th>Df Model:</th>              <td>     1</td>      <th>                     </th>     <td> </td>   \n",
       "</tr>\n",
       "<tr>\n",
       "  <th>Covariance Type:</th>      <td>nonrobust</td>    <th>                     </th>     <td> </td>   \n",
       "</tr>\n",
       "</table>\n",
       "<table class=\"simpletable\">\n",
       "<tr>\n",
       "                <td></td>                  <th>coef</th>     <th>std err</th>      <th>t</th>      <th>P>|t|</th> <th>[95.0% Conf. Int.]</th> \n",
       "</tr>\n",
       "<tr>\n",
       "  <th>const</th>                        <td>   -0.3143</td> <td>    0.147</td> <td>   -2.145</td> <td> 0.045</td> <td>   -0.621    -0.008</td>\n",
       "</tr>\n",
       "<tr>\n",
       "  <th>Average_civilian_firearms_pp</th> <td>    6.0111</td> <td>    0.770</td> <td>    7.803</td> <td> 0.000</td> <td>    4.399     7.624</td>\n",
       "</tr>\n",
       "</table>\n",
       "<table class=\"simpletable\">\n",
       "<tr>\n",
       "  <th>Omnibus:</th>       <td> 8.546</td> <th>  Durbin-Watson:     </th> <td>   1.911</td>\n",
       "</tr>\n",
       "<tr>\n",
       "  <th>Prob(Omnibus):</th> <td> 0.014</td> <th>  Jarque-Bera (JB):  </th> <td>   2.020</td>\n",
       "</tr>\n",
       "<tr>\n",
       "  <th>Skew:</th>          <td> 0.157</td> <th>  Prob(JB):          </th> <td>   0.364</td>\n",
       "</tr>\n",
       "<tr>\n",
       "  <th>Kurtosis:</th>      <td> 1.513</td> <th>  Cond. No.          </th> <td>    8.21</td>\n",
       "</tr>\n",
       "</table>"
      ],
      "text/plain": [
       "<class 'statsmodels.iolib.summary.Summary'>\n",
       "\"\"\"\n",
       "                            WLS Regression Results                            \n",
       "==============================================================================\n",
       "Dep. Variable:            shootingspp   R-squared:                       0.762\n",
       "Model:                            WLS   Adj. R-squared:                  0.750\n",
       "Method:                 Least Squares   F-statistic:                     60.88\n",
       "Date:                Wed, 14 Nov 2018   Prob (F-statistic):           2.42e-07\n",
       "Time:                        21:19:35   Log-Likelihood:                -15.446\n",
       "No. Observations:                  21   AIC:                             34.89\n",
       "Df Residuals:                      19   BIC:                             36.98\n",
       "Df Model:                           1                                         \n",
       "Covariance Type:            nonrobust                                         \n",
       "================================================================================================\n",
       "                                   coef    std err          t      P>|t|      [95.0% Conf. Int.]\n",
       "------------------------------------------------------------------------------------------------\n",
       "const                           -0.3143      0.147     -2.145      0.045        -0.621    -0.008\n",
       "Average_civilian_firearms_pp     6.0111      0.770      7.803      0.000         4.399     7.624\n",
       "==============================================================================\n",
       "Omnibus:                        8.546   Durbin-Watson:                   1.911\n",
       "Prob(Omnibus):                  0.014   Jarque-Bera (JB):                2.020\n",
       "Skew:                           0.157   Prob(JB):                        0.364\n",
       "Kurtosis:                       1.513   Cond. No.                         8.21\n",
       "==============================================================================\n",
       "\n",
       "Warnings:\n",
       "[1] Standard Errors assume that the covariance matrix of the errors is correctly specified.\n",
       "\"\"\""
      ]
     },
     "execution_count": 49,
     "metadata": {},
     "output_type": "execute_result"
    }
   ],
   "source": [
    "# statsmodels WLS: use reciprocal of residuals‘ absolute value as weight\n",
    "# use WLS to fit data without outlier\n",
    "mod2 = sm.WLS(df_without_outlier.shootingspp, sm.add_constant(df_without_outlier.Average_civilian_firearms_pp), \n",
    "              weights=1/abs(mod1.resid)).fit()\n",
    "mod2.summary()"
   ]
  },
  {
   "cell_type": "markdown",
   "metadata": {},
   "source": [
    "## The WLS's Rsquared has improved."
   ]
  },
  {
   "cell_type": "code",
   "execution_count": 50,
   "metadata": {},
   "outputs": [],
   "source": [
    "coefficient, residuals = np.polyfit(df_without_outlier.Average_civilian_firearms_pp, \n",
    "                                    df_without_outlier.shootingspp, deg=1)"
   ]
  },
  {
   "cell_type": "code",
   "execution_count": 51,
   "metadata": {},
   "outputs": [
    {
     "data": {
      "text/plain": [
       "<matplotlib.legend.Legend at 0x7f8ba6562588>"
      ]
     },
     "execution_count": 51,
     "metadata": {},
     "output_type": "execute_result"
    },
    {
     "name": "stderr",
     "output_type": "stream",
     "text": [
      "/usr/local/Anaconda3-5.0.0-Linux-x86_64/envs/PUI2016_Python3/lib/python3.5/site-packages/matplotlib/font_manager.py:1316: UserWarning: findfont: Font family ['sans-serif'] not found. Falling back to DejaVu Sans\n",
      "  (prop.get_family(), self.defaultFamily[fontext]))\n"
     ]
    },
    {
     "data": {
      "image/png": "[encoded data removed]",
      "text/plain": [
       "<matplotlib.figure.Figure at 0x7f8ba655f438>"
      ]
     },
     "metadata": {},
     "output_type": "display_data"
    }
   ],
   "source": [
    "# integrate OLS,WLS,seaborn and polyfit to a figure\n",
    "fig = pl.figure(figsize=(10,10))\n",
    "ax = fig.add_subplot(111)\n",
    "ax.scatter(df_without_outlier.Average_civilian_firearms_pp, \n",
    "           df_without_outlier.shootingspp, color='blue', label = \"original data without outlier\")\n",
    "ax.errorbar(df_without_outlier.Average_civilian_firearms_pp,\n",
    "            df_without_outlier.shootingspp, \n",
    "            yerr=np.sqrt(df_without_outlier.shootingspp * 1.0), fmt = '.', label=\"errorbar\")\n",
    "ax.plot(df_without_outlier.Average_civilian_firearms_pp, \n",
    "        mod1.predict(sm.add_constant(df_without_outlier.Average_civilian_firearms_pp)), \n",
    "        color='black', label=\"use OLS to fit a line to data without outlier\")\n",
    "ax.plot(df_without_outlier.Average_civilian_firearms_pp, \n",
    "        mod2.predict(sm.add_constant(df_without_outlier.Average_civilian_firearms_pp)), \n",
    "        color='red', label=\"use WLS to fit a line to data without outlier\")\n",
    "sns.regplot(df_without_outlier.Average_civilian_firearms_pp, \n",
    "            df_without_outlier.shootingspp, color='magenta', label=\"use seaborn to fit a line without outlier\")\n",
    "pl.plot(df_without_outlier.Average_civilian_firearms_pp, \n",
    "        coefficient*df_without_outlier.Average_civilian_firearms_pp+residuals, \n",
    "        color='green', label=\"use polyfit to fit a line without outlier\")\n",
    "ax.set_xlabel('Average total all civilian firearms per person without outlier',fontsize=18)\n",
    "ax.set_ylabel('the Number of mass shootings per person without outlier',fontsize=18)\n",
    "ax.legend()"
   ]
  },
  {
   "cell_type": "markdown",
   "metadata": {},
   "source": [
    "## From the summary table and plot above, it is obvious that R-square has improved and fitting  line behaves better after removing the outlier.\n"
   ]
  },
  {
   "cell_type": "markdown",
   "metadata": {
    "ExecuteTime": {
     "end_time": "2017-10-12T16:21:08.019663",
     "start_time": "2017-10-12T16:21:08.010876"
    },
    "run_control": {
     "frozen": false,
     "read_only": false
    }
   },
   "source": [
    "## Extra credit: calculate the confidence interval by hand and also plot them \n",
    "you can use pylab.fill_between(x, yfit - ci, yfit + ci, alpha=0.5)"
   ]
  },
  {
   "cell_type": "markdown",
   "metadata": {
    "run_control": {
     "frozen": false,
     "read_only": false
    }
   },
   "source": [
    "**Confidence intervals: **\n",
    "there are three type of intervals in a linear regression, plot any one of them all three if you want - how do they compare to the seaborn plot?:\n",
    "\n",
    "1) Confidence intervals for the parameters slope and intercept\n",
    "\n",
    "2) Confidence interval for the average y value\n",
    "\n",
    "3) Prediction interval for a single y value"
   ]
  },
  {
   "cell_type": "markdown",
   "metadata": {
    "run_control": {
     "frozen": false,
     "read_only": false
    }
   },
   "source": [
    "1) __confidence interval of the  model parameters slope and intercept:__\n",
    "define sigma as the sum of the residuals over the square root of number n of observations. \n",
    "\n",
    "sigma: σ̂ =sqrt(Sum((Yoberved_i−Ypredicted_i)^2)/n)\n",
    "\n",
    "where the sum is over all observations\n",
    "\n",
    "Define t_alpha/2,n-2 the t statistics at (1-alpha/2) for a t distribution with n-2 degrees of freedom (you can calculate it with scipy\n",
    "tp = sp.stats.t.ppf(0.975, n-2)\n",
    "\n"
   ]
  },
  {
   "cell_type": "markdown",
   "metadata": {
    "run_control": {
     "frozen": false,
     "read_only": false
    }
   },
   "source": [
    "[proof](https://onlinecourses.science.psu.edu/stat414/node/280)"
   ]
  },
  {
   "cell_type": "markdown",
   "metadata": {
    "run_control": {
     "frozen": false,
     "read_only": false
    }
   },
   "source": [
    "2) **A confidence interval for E(y | x) , the expected (average) value of y for a given x_**\n",
    "\n",
    "define s: residual standard error sy = sqrt(Sum((y_observed-y_predicted)^2)/(n-2))\n",
    "\n",
    "(note: n-2 is the degrees of freedom of the problem: observations - number of parameters - 1)\n",
    "\n",
    "the confidence interval for a given y(x*) is: \n",
    "\n",
    "y_predicted(x*) +/- t_(alpha/2)(n-2) * sy * sqrt( 1/n + (x* - mean(x)^2) / sum((x* - mean(x)^2)"
   ]
  },
  {
   "cell_type": "markdown",
   "metadata": {
    "run_control": {
     "frozen": false,
     "read_only": false
    }
   },
   "source": [
    "3) **Confidence intervals for average y (predicted) values**\n",
    "\n",
    "y_predicted(x*) +/- t_(n-2) * sy * sqrt( 1 + 1/n + (x* - mean(x)^2) / sum((x* - mean(x)^2)\n",
    "\n",
    "very similar, but note the +1 in the square root"
   ]
  },
  {
   "cell_type": "code",
   "execution_count": 52,
   "metadata": {},
   "outputs": [
    {
     "name": "stdout",
     "output_type": "stream",
     "text": [
      "0.36839728572 3.83730258043\n"
     ]
    }
   ],
   "source": [
    "# fit a OLS model and get the parameters:slope and intercept\n",
    "modOLS = sm.OLS(df_.shootingspp, sm.add_constant(df_.Average_civilian_firearms_pp)).fit()\n",
    "params = modOLS.params\n",
    "intercept = params[0]\n",
    "slope = params[1]\n",
    "print(intercept,slope)"
   ]
  },
  {
   "cell_type": "code",
   "execution_count": 53,
   "metadata": {},
   "outputs": [
    {
     "data": {
      "text/plain": [
       "<matplotlib.legend.Legend at 0x7f8ba48e4588>"
      ]
     },
     "execution_count": 53,
     "metadata": {},
     "output_type": "execute_result"
    },
    {
     "name": "stderr",
     "output_type": "stream",
     "text": [
      "/usr/local/Anaconda3-5.0.0-Linux-x86_64/envs/PUI2016_Python3/lib/python3.5/site-packages/matplotlib/font_manager.py:1316: UserWarning: findfont: Font family ['sans-serif'] not found. Falling back to DejaVu Sans\n",
      "  (prop.get_family(), self.defaultFamily[fontext]))\n"
     ]
    },
    {
     "data": {
      "image/png": "[encoded data removed]",
      "text/plain": [
       "<matplotlib.figure.Figure at 0x7f8ba492c0b8>"
      ]
     },
     "metadata": {},
     "output_type": "display_data"
    }
   ],
   "source": [
    "# I choose the third kind of confidence intervals:\n",
    "## Confidence intervals for average y (predicted) values\n",
    "fig = pl.figure(figsize=(10,10))\n",
    "ax = fig.add_subplot(111)\n",
    "ax.scatter(df_.Average_civilian_firearms_pp, df_.shootingspp, label = \"original data\")\n",
    "ax.errorbar(df_.Average_civilian_firearms_pp, df_.shootingspp, \n",
    "            yerr=np.sqrt(df_.shootingspp * 1.0), fmt = '.')\n",
    "ax.plot(df_.Average_civilian_firearms_pp, modOLS.predict(sm.add_constant(df_.Average_civilian_firearms_pp)), \n",
    "        color='k', label=\"use OLS to fit a line to data\")\n",
    "## define s: residual standard error sy = sqrt(Sum((y_observed-y_predicted)^2)/(n-2))\n",
    "yprediction = (df_.Average_civilian_firearms_pp*slope + intercept).mean()\n",
    "sy = np.sqrt((df_.shootingspp - yprediction )**2 / (len(df_.shootingspp) - 2))\n",
    "tp = sp.stats.t.ppf(0.975, len(df_.shootingspp)-2)\n",
    "confidence_interval = tp * sy * np.sqrt(1 + 1/len(df_.shootingspp) + \n",
    "                                     (df_.shootingspp - df_.shootingspp.mean())**2 / \n",
    "                                     ((df_.shootingspp - df_.shootingspp.mean())**2).sum())\n",
    "pl.fill_between(df_.Average_civilian_firearms_pp, \n",
    "                yprediction - confidence_interval, \n",
    "                yprediction + confidence_interval, \n",
    "                alpha=0.5, label=\"y confidence interval\")\n",
    "ax.set_xlabel('Average total all civilian firearms per person',fontsize=18)\n",
    "ax.set_ylabel('the Number of mass shootings per person',fontsize=18)\n",
    "ax.legend()"
   ]
  },
  {
   "cell_type": "markdown",
   "metadata": {
    "run_control": {
     "frozen": false,
     "read_only": false
    }
   },
   "source": [
    "## Use the stsatsmodels.gaphics package to plot the influence plot. \n",
    "Read the package documentation to learn how to read this plot and extract the countries with the highest influence\n",
    "\n",
    "This is the topic of this week's assigned reading, so make sure you do the reading before you do this step. It will help you interpret the plot."
   ]
  },
  {
   "cell_type": "code",
   "execution_count": 54,
   "metadata": {
    "ExecuteTime": {
     "end_time": "2017-10-11T07:46:21.766085",
     "start_time": "2017-10-11T07:46:21.412498"
    },
    "run_control": {
     "frozen": false,
     "read_only": false
    }
   },
   "outputs": [
    {
     "name": "stderr",
     "output_type": "stream",
     "text": [
      "/usr/local/Anaconda3-5.0.0-Linux-x86_64/envs/PUI2016_Python3/lib/python3.5/site-packages/matplotlib/font_manager.py:1316: UserWarning: findfont: Font family ['sans-serif'] not found. Falling back to DejaVu Sans\n",
      "  (prop.get_family(), self.defaultFamily[fontext]))\n"
     ]
    },
    {
     "data": {
      "image/png": "[encoded data removed]",
      "text/plain": [
       "<matplotlib.figure.Figure at 0x7f8ba654ec50>"
      ]
     },
     "metadata": {},
     "output_type": "display_data"
    }
   ],
   "source": [
    "modelOLS = sm.OLS(df_.shootingspp, sm.add_constant(df_.Average_civilian_firearms_pp)).fit()\n",
    "sm.graphics.influence_plot(modelOLS, alpha  = 0.05, criterion=\"cooks\");"
   ]
  },
  {
   "cell_type": "markdown",
   "metadata": {},
   "source": [
    "## The H-leverage of 22 is United States, the outlier. It has the highest leverage/influence. It will decrease its studentized or standized residuals because it will pull the line more toward to it compared to other points."
   ]
  },
  {
   "cell_type": "markdown",
   "metadata": {
    "run_control": {
     "frozen": false,
     "read_only": false
    }
   },
   "source": [
    "## Extra credit: calculate from scratch the stanrdardized residuals and the H leverage for the WLS model and discuss if there are any differences"
   ]
  },
  {
   "cell_type": "markdown",
   "metadata": {
    "run_control": {
     "frozen": false,
     "read_only": false
    }
   },
   "source": [
    "## Discuss your findings"
   ]
  },
  {
   "cell_type": "code",
   "execution_count": 55,
   "metadata": {},
   "outputs": [],
   "source": [
    "# fit WLS to data\n",
    "modelWLS = sm.WLS(df_.shootingspp, sm.add_constant(df_.Average_civilian_firearms_pp), weights=1/(modelOLS.resid**2)).fit()"
   ]
  },
  {
   "cell_type": "code",
   "execution_count": 56,
   "metadata": {},
   "outputs": [],
   "source": [
    "## calculate the H_leverage\n",
    "## the formula is from http://www.stat.ucla.edu/~nchristo/introeconometrics/introecon_compute_sres_hat.pdf\n",
    "H_leverage = 1/len(df_.Average_civilian_firearms_pp) + (df_.Average_civilian_firearms_pp - df_.Average_civilian_firearms_pp.mean())**2/((df_.Average_civilian_firearms_pp - df_.Average_civilian_firearms_pp.mean())**2).sum()"
   ]
  },
  {
   "cell_type": "code",
   "execution_count": 57,
   "metadata": {},
   "outputs": [],
   "source": [
    "#calculate the standard error of the mean\n",
    "se = sp.stats.sem(df_.shootingspp)"
   ]
  },
  {
   "cell_type": "code",
   "execution_count": 58,
   "metadata": {},
   "outputs": [],
   "source": [
    "#calculate the standardized_residuals. \n",
    "## The formula is from http://www.stat.ucla.edu/~nchristo/introeconometrics/introecon_compute_sres_hat.pdf\n",
    "standardized_residuals = modelWLS.resid/( se * (np.sqrt(1 - H_leverage)))"
   ]
  },
  {
   "cell_type": "code",
   "execution_count": 59,
   "metadata": {},
   "outputs": [
    {
     "data": {
      "text/plain": [
       "Text(0.5,1,'Standardized Residuals VS. H leverage')"
      ]
     },
     "execution_count": 59,
     "metadata": {},
     "output_type": "execute_result"
    },
    {
     "name": "stderr",
     "output_type": "stream",
     "text": [
      "/usr/local/Anaconda3-5.0.0-Linux-x86_64/envs/PUI2016_Python3/lib/python3.5/site-packages/matplotlib/font_manager.py:1316: UserWarning: findfont: Font family ['sans-serif'] not found. Falling back to DejaVu Sans\n",
      "  (prop.get_family(), self.defaultFamily[fontext]))\n"
     ]
    },
    {
     "data": {
      "image/png": "[encoded data removed]",
      "text/plain": [
       "<matplotlib.figure.Figure at 0x7f8ba48c9518>"
      ]
     },
     "metadata": {},
     "output_type": "display_data"
    }
   ],
   "source": [
    "## plot the Standardized Residuals VS. H leverage  of WLS model\n",
    "fig = plt.figure(figsize=(10,5))\n",
    "plt.scatter(H_leverage, standardized_residuals)\n",
    "plt.xlabel(\"H leverage\", fontsize=18)\n",
    "plt.ylabel(\"Standardized Residuals\", fontsize=18)\n",
    "plt.title(\"Standardized Residuals VS. H leverage\", fontsize=20)"
   ]
  },
  {
   "cell_type": "markdown",
   "metadata": {},
   "source": [
    "## Compared to the OLS model, WLS model's plot of Standardized Residuals VS. H leverage is similar to it, including the H leverage value. The only difference is Standardized Residuals increasing. WLS standardized Residuals is from -5 to 20. and OLS standardized Residuals are from 0 to 8. "
   ]
  },
  {
   "cell_type": "code",
   "execution_count": null,
   "metadata": {},
   "outputs": [],
   "source": []
  }
 ],
 "metadata": {
  "anaconda-cloud": {},
  "kernelspec": {
   "display_name": "PUI2016_Python3",
   "language": "python",
   "name": "pui2016_python3"
  },
  "language_info": {
   "codemirror_mode": {
    "name": "ipython",
    "version": 3
   },
   "file_extension": ".py",
   "mimetype": "text/x-python",
   "name": "python",
   "nbconvert_exporter": "python",
   "pygments_lexer": "ipython3",
   "version": "3.5.4"
  },
  "latex_envs": {
   "LaTeX_envs_menu_present": true,
   "bibliofile": "biblio.bib",
   "cite_by": "apalike",
   "current_citInitial": 1,
   "eqLabelWithNumbers": true,
   "eqNumInitial": 1,
   "hotkeys": {
    "equation": "Ctrl-E",
    "itemize": "Ctrl-I"
   },
   "labels_anchors": false,
   "latex_user_defs": false,
   "report_style_numbering": false,
   "user_envs_cfg": false
  },
  "toc": {
   "colors": {
    "hover_highlight": "#DAA520",
    "running_highlight": "#FF0000",
    "selected_highlight": "#FFD700"
   },
   "moveMenuLeft": true,
   "nav_menu": {
    "height": "13px",
    "width": "251px"
   },
   "navigate_menu": true,
   "number_sections": true,
   "sideBar": true,
   "threshold": 4,
   "toc_cell": true,
   "toc_section_display": "block",
   "toc_window_display": true
  }
 },
 "nbformat": 4,
 "nbformat_minor": 1
}
